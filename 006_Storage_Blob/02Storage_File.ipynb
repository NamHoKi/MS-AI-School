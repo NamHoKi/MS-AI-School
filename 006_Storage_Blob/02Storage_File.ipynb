{
  "nbformat": 4,
  "nbformat_minor": 0,
  "metadata": {
    "colab": {
      "provenance": []
    },
    "kernelspec": {
      "name": "python3",
      "display_name": "Python 3"
    },
    "language_info": {
      "name": "python"
    }
  },
  "cells": [
    {
      "cell_type": "code",
      "execution_count": null,
      "metadata": {
        "colab": {
          "base_uri": "https://localhost:8080/"
        },
        "id": "1eW_ZznzMERm",
        "outputId": "c43229b0-e47e-4fa4-ed58-570f1d6ea8db"
      },
      "outputs": [
        {
          "output_type": "stream",
          "name": "stdout",
          "text": [
            "Looking in indexes: https://pypi.org/simple, https://us-python.pkg.dev/colab-wheels/public/simple/\n",
            "Collecting azure-storage-file\n",
            "  Downloading azure_storage_file-2.1.0-py2.py3-none-any.whl (36 kB)\n",
            "Collecting azure-common>=1.1.5\n",
            "  Downloading azure_common-1.1.28-py2.py3-none-any.whl (14 kB)\n",
            "Collecting azure-storage-common~=2.1\n",
            "  Downloading azure_storage_common-2.1.0-py2.py3-none-any.whl (47 kB)\n",
            "\u001b[K     |████████████████████████████████| 47 kB 1.1 MB/s \n",
            "\u001b[?25hRequirement already satisfied: python-dateutil in /usr/local/lib/python3.7/dist-packages (from azure-storage-common~=2.1->azure-storage-file) (2.8.2)\n",
            "Collecting cryptography\n",
            "  Downloading cryptography-38.0.3-cp36-abi3-manylinux_2_24_x86_64.whl (4.1 MB)\n",
            "\u001b[K     |████████████████████████████████| 4.1 MB 9.0 MB/s \n",
            "\u001b[?25hRequirement already satisfied: requests in /usr/local/lib/python3.7/dist-packages (from azure-storage-common~=2.1->azure-storage-file) (2.23.0)\n",
            "Requirement already satisfied: cffi>=1.12 in /usr/local/lib/python3.7/dist-packages (from cryptography->azure-storage-common~=2.1->azure-storage-file) (1.15.1)\n",
            "Requirement already satisfied: pycparser in /usr/local/lib/python3.7/dist-packages (from cffi>=1.12->cryptography->azure-storage-common~=2.1->azure-storage-file) (2.21)\n",
            "Requirement already satisfied: six>=1.5 in /usr/local/lib/python3.7/dist-packages (from python-dateutil->azure-storage-common~=2.1->azure-storage-file) (1.15.0)\n",
            "Requirement already satisfied: certifi>=2017.4.17 in /usr/local/lib/python3.7/dist-packages (from requests->azure-storage-common~=2.1->azure-storage-file) (2022.9.24)\n",
            "Requirement already satisfied: chardet<4,>=3.0.2 in /usr/local/lib/python3.7/dist-packages (from requests->azure-storage-common~=2.1->azure-storage-file) (3.0.4)\n",
            "Requirement already satisfied: idna<3,>=2.5 in /usr/local/lib/python3.7/dist-packages (from requests->azure-storage-common~=2.1->azure-storage-file) (2.10)\n",
            "Requirement already satisfied: urllib3!=1.25.0,!=1.25.1,<1.26,>=1.21.1 in /usr/local/lib/python3.7/dist-packages (from requests->azure-storage-common~=2.1->azure-storage-file) (1.24.3)\n",
            "Installing collected packages: cryptography, azure-common, azure-storage-common, azure-storage-file\n",
            "Successfully installed azure-common-1.1.28 azure-storage-common-2.1.0 azure-storage-file-2.1.0 cryptography-38.0.3\n"
          ]
        }
      ],
      "source": [
        "!pip install azure-storage-file"
      ]
    },
    {
      "cell_type": "code",
      "source": [
        "# File Share 연결하는 코드\n",
        "\n",
        "from azure.storage.file import FileService\n",
        "file_service = FileService(account_name='아이디 입력', account_key='키값 입력')"
      ],
      "metadata": {
        "id": "caKg2moOMIFu"
      },
      "execution_count": null,
      "outputs": []
    },
    {
      "cell_type": "code",
      "source": [
        "# myshre 공유 폴더를 생성\n",
        "\n",
        "file_service.create_share('myshare')"
      ],
      "metadata": {
        "colab": {
          "base_uri": "https://localhost:8080/"
        },
        "id": "ts61Jw6_MkkK",
        "outputId": "aae0b214-4355-4dd4-f4c9-f8fb9d086b7d"
      },
      "execution_count": null,
      "outputs": [
        {
          "output_type": "execute_result",
          "data": {
            "text/plain": [
              "True"
            ]
          },
          "metadata": {},
          "execution_count": 3
        }
      ]
    },
    {
      "cell_type": "code",
      "source": [
        "# myshare 안에 샘플 디렉토리인 sampledir을 생성한다. \n",
        "\n",
        "file_service.create_directory('myshare', 'sampledir')"
      ],
      "metadata": {
        "colab": {
          "base_uri": "https://localhost:8080/"
        },
        "id": "SgDkMsv7Mtaf",
        "outputId": "255fd8cc-2c9b-4d5c-b937-331dd15d311d"
      },
      "execution_count": null,
      "outputs": [
        {
          "output_type": "execute_result",
          "data": {
            "text/plain": [
              "True"
            ]
          },
          "metadata": {},
          "execution_count": 4
        }
      ]
    },
    {
      "cell_type": "code",
      "source": [
        "# IU.jpg를 myfile로 해당 공유 폴더에 복사한다. \n",
        "\n",
        "from azure.storage.file import ContentSettings\n",
        "file_service.create_file_from_path(\n",
        "    'myshare',\n",
        "    None,  # We want to create this file in the root directory, so we specify None for the directory_name\n",
        "    'myfile',\n",
        "    'IU.jpg',\n",
        "    content_settings=ContentSettings(content_type='image/png'))"
      ],
      "metadata": {
        "id": "3e4x2HcrM2ZU"
      },
      "execution_count": null,
      "outputs": []
    },
    {
      "cell_type": "code",
      "source": [
        "# 공유 폴더안에 파일 목록을 가져와서 보여준다.\n",
        "\n",
        "generator = file_service.list_directories_and_files('myshare')\n",
        "for file_or_dir in generator:\n",
        "    print(file_or_dir.name)"
      ],
      "metadata": {
        "colab": {
          "base_uri": "https://localhost:8080/"
        },
        "id": "gQkL7mkWNGAy",
        "outputId": "fbde107d-af81-41d9-a5d0-5d1ff5d61ef3"
      },
      "execution_count": null,
      "outputs": [
        {
          "output_type": "stream",
          "name": "stdout",
          "text": [
            "myfile\n",
            "sampledir\n"
          ]
        }
      ]
    },
    {
      "cell_type": "code",
      "source": [
        "# 다시 myfile로 복사된 IU.jpg를 out-IU.jpg로 가져온다. \n",
        "\n",
        "file_service.get_file_to_path('myshare', None, 'myfile', 'out-IU.jpg')"
      ],
      "metadata": {
        "colab": {
          "base_uri": "https://localhost:8080/"
        },
        "id": "VOIWzYE5OGcw",
        "outputId": "028bc3c5-c7b2-43ff-f3e5-815770e33fc4"
      },
      "execution_count": null,
      "outputs": [
        {
          "output_type": "execute_result",
          "data": {
            "text/plain": [
              "<azure.storage.file.models.File at 0x7f148bba5050>"
            ]
          },
          "metadata": {},
          "execution_count": 7
        }
      ]
    },
    {
      "cell_type": "code",
      "source": [
        "# 스넵샷을 찍어둔다. \n",
        "\n",
        "metadata = {\"foo\": \"bar\"}\n",
        "snapshot = file_service.snapshot_share('myshare', metadata=metadata)"
      ],
      "metadata": {
        "id": "R34nl9lbOMzk"
      },
      "execution_count": null,
      "outputs": []
    },
    {
      "cell_type": "code",
      "source": [
        "# 전체 스넵샷의 목록을 가져온다. \n",
        "\n",
        "shares = list(file_service.list_shares(include_snapshots=True))\n",
        "\n",
        "for s in shares:\n",
        "  print(s.snapshot)"
      ],
      "metadata": {
        "id": "HxicFbTOOiz1",
        "colab": {
          "base_uri": "https://localhost:8080/"
        },
        "outputId": "207cce57-841b-4d5a-ce1c-49d66d87bb12"
      },
      "execution_count": null,
      "outputs": [
        {
          "output_type": "stream",
          "name": "stdout",
          "text": [
            "2022-11-08T00:19:42.0000000Z\n",
            "2022-11-08T00:24:18.0000000Z\n",
            "None\n"
          ]
        }
      ]
    },
    {
      "cell_type": "code",
      "source": [
        "# 스넵샷의 파일과 디렉토리 목록을 가져온다. \n",
        "\n",
        "directories_and_files = list(\n",
        "    file_service.list_directories_and_files('myshare', snapshot='2022-11-08T00:24:18.0000000Z'))"
      ],
      "metadata": {
        "id": "hu1pPbw5OrRJ"
      },
      "execution_count": null,
      "outputs": []
    },
    {
      "cell_type": "code",
      "source": [
        "# 파일과 디렉토리 목록을 출력한다. \n",
        "\n",
        "directories_and_files\n",
        "for file_or_dir in generator:\n",
        "    print(file_or_dir.name)"
      ],
      "metadata": {
        "colab": {
          "base_uri": "https://localhost:8080/"
        },
        "id": "-jMKULKuO5Bu",
        "outputId": "a82c981e-0e80-4547-e76d-2c8825765a88"
      },
      "execution_count": null,
      "outputs": [
        {
          "output_type": "stream",
          "name": "stdout",
          "text": [
            "myfile\n",
            "sampledir\n"
          ]
        }
      ]
    },
    {
      "cell_type": "code",
      "source": [
        "# 스넵샷의 삭제 \n",
        "\n",
        "file_service.delete_share('myshare', snapshot='2022-11-08T00:24:18.0000000Z')"
      ],
      "metadata": {
        "colab": {
          "base_uri": "https://localhost:8080/"
        },
        "id": "eBjmVvGbPOzZ",
        "outputId": "4cb16028-849b-4e12-afeb-774131dbb36d"
      },
      "execution_count": null,
      "outputs": [
        {
          "output_type": "execute_result",
          "data": {
            "text/plain": [
              "True"
            ]
          },
          "metadata": {},
          "execution_count": 19
        }
      ]
    },
    {
      "cell_type": "code",
      "source": [
        "# 공유 폴더내의 파일의 삭제\n",
        "\n",
        "file_service.delete_file('myshare', None, 'myfile')"
      ],
      "metadata": {
        "id": "4ER2868kPz-7",
        "colab": {
          "base_uri": "https://localhost:8080/",
          "height": 446
        },
        "outputId": "cbf27063-9c77-47ac-cfdf-7dd26a4e7f0b"
      },
      "execution_count": null,
      "outputs": [
        {
          "output_type": "stream",
          "name": "stderr",
          "text": [
            "ERROR:azure.storage.common.storageclient:Client-Request-ID=a0f0cce2-5efd-11ed-8d55-0242ac1c0002 Retry policy did not allow for a retry: Server-Timestamp=Tue, 08 Nov 2022 00:38:13 GMT, Server-Request-ID=0603d3b1-001a-001c-410a-f3fc7a000000, HTTP status code=404, Exception=The specified resource does not exist. ErrorCode: ResourceNotFound<?xml version=\"1.0\" encoding=\"utf-8\"?><Error><Code>ResourceNotFound</Code><Message>The specified resource does not exist.RequestId:0603d3b1-001a-001c-410a-f3fc7a000000Time:2022-11-08T00:38:13.8631255Z</Message></Error>.\n"
          ]
        },
        {
          "output_type": "error",
          "ename": "AzureMissingResourceHttpError",
          "evalue": "ignored",
          "traceback": [
            "\u001b[0;31m---------------------------------------------------------------------------\u001b[0m",
            "\u001b[0;31mAzureMissingResourceHttpError\u001b[0m             Traceback (most recent call last)",
            "\u001b[0;32m<ipython-input-22-f5e22c7cce41>\u001b[0m in \u001b[0;36m<module>\u001b[0;34m\u001b[0m\n\u001b[1;32m      1\u001b[0m \u001b[0;31m# 공유 폴더내의 파일의 삭제\u001b[0m\u001b[0;34m\u001b[0m\u001b[0;34m\u001b[0m\u001b[0;34m\u001b[0m\u001b[0m\n\u001b[1;32m      2\u001b[0m \u001b[0;34m\u001b[0m\u001b[0m\n\u001b[0;32m----> 3\u001b[0;31m \u001b[0mfile_service\u001b[0m\u001b[0;34m.\u001b[0m\u001b[0mdelete_file\u001b[0m\u001b[0;34m(\u001b[0m\u001b[0;34m'myshare'\u001b[0m\u001b[0;34m,\u001b[0m \u001b[0;32mNone\u001b[0m\u001b[0;34m,\u001b[0m \u001b[0;34m'myfile'\u001b[0m\u001b[0;34m)\u001b[0m\u001b[0;34m\u001b[0m\u001b[0;34m\u001b[0m\u001b[0m\n\u001b[0m",
            "\u001b[0;32m/usr/local/lib/python3.7/dist-packages/azure/storage/file/fileservice.py\u001b[0m in \u001b[0;36mdelete_file\u001b[0;34m(self, share_name, directory_name, file_name, timeout)\u001b[0m\n\u001b[1;32m   1825\u001b[0m         \u001b[0mrequest\u001b[0m\u001b[0;34m.\u001b[0m\u001b[0mquery\u001b[0m \u001b[0;34m=\u001b[0m \u001b[0;34m{\u001b[0m\u001b[0;34m'timeout'\u001b[0m\u001b[0;34m:\u001b[0m \u001b[0m_int_to_str\u001b[0m\u001b[0;34m(\u001b[0m\u001b[0mtimeout\u001b[0m\u001b[0;34m)\u001b[0m\u001b[0;34m}\u001b[0m\u001b[0;34m\u001b[0m\u001b[0;34m\u001b[0m\u001b[0m\n\u001b[1;32m   1826\u001b[0m \u001b[0;34m\u001b[0m\u001b[0m\n\u001b[0;32m-> 1827\u001b[0;31m         \u001b[0mself\u001b[0m\u001b[0;34m.\u001b[0m\u001b[0m_perform_request\u001b[0m\u001b[0;34m(\u001b[0m\u001b[0mrequest\u001b[0m\u001b[0;34m)\u001b[0m\u001b[0;34m\u001b[0m\u001b[0;34m\u001b[0m\u001b[0m\n\u001b[0m\u001b[1;32m   1828\u001b[0m \u001b[0;34m\u001b[0m\u001b[0m\n\u001b[1;32m   1829\u001b[0m     def create_file(self, share_name, directory_name, file_name,\n",
            "\u001b[0;32m/usr/local/lib/python3.7/dist-packages/azure/storage/common/storageclient.py\u001b[0m in \u001b[0;36m_perform_request\u001b[0;34m(self, request, parser, parser_args, operation_context, expected_errors)\u001b[0m\n\u001b[1;32m    444\u001b[0m                                  \u001b[0mstatus_code\u001b[0m\u001b[0;34m,\u001b[0m\u001b[0;34m\u001b[0m\u001b[0;34m\u001b[0m\u001b[0m\n\u001b[1;32m    445\u001b[0m                                  exception_str_in_one_line)\n\u001b[0;32m--> 446\u001b[0;31m                     \u001b[0;32mraise\u001b[0m \u001b[0mex\u001b[0m\u001b[0;34m\u001b[0m\u001b[0;34m\u001b[0m\u001b[0m\n\u001b[0m\u001b[1;32m    447\u001b[0m             \u001b[0;32mfinally\u001b[0m\u001b[0;34m:\u001b[0m\u001b[0;34m\u001b[0m\u001b[0;34m\u001b[0m\u001b[0m\n\u001b[1;32m    448\u001b[0m                 \u001b[0;31m# If this is a location locked operation and the location is not set,\u001b[0m\u001b[0;34m\u001b[0m\u001b[0;34m\u001b[0m\u001b[0;34m\u001b[0m\u001b[0m\n",
            "\u001b[0;32m/usr/local/lib/python3.7/dist-packages/azure/storage/common/storageclient.py\u001b[0m in \u001b[0;36m_perform_request\u001b[0;34m(self, request, parser, parser_args, operation_context, expected_errors)\u001b[0m\n\u001b[1;32m    372\u001b[0m                 \u001b[0;32mexcept\u001b[0m \u001b[0mAzureException\u001b[0m \u001b[0;32mas\u001b[0m \u001b[0mex\u001b[0m\u001b[0;34m:\u001b[0m\u001b[0;34m\u001b[0m\u001b[0;34m\u001b[0m\u001b[0m\n\u001b[1;32m    373\u001b[0m                     \u001b[0mretry_context\u001b[0m\u001b[0;34m.\u001b[0m\u001b[0mexception\u001b[0m \u001b[0;34m=\u001b[0m \u001b[0mex\u001b[0m\u001b[0;34m\u001b[0m\u001b[0;34m\u001b[0m\u001b[0m\n\u001b[0;32m--> 374\u001b[0;31m                     \u001b[0;32mraise\u001b[0m \u001b[0mex\u001b[0m\u001b[0;34m\u001b[0m\u001b[0;34m\u001b[0m\u001b[0m\n\u001b[0m\u001b[1;32m    375\u001b[0m                 \u001b[0;32mexcept\u001b[0m \u001b[0mException\u001b[0m \u001b[0;32mas\u001b[0m \u001b[0mex\u001b[0m\u001b[0;34m:\u001b[0m\u001b[0;34m\u001b[0m\u001b[0;34m\u001b[0m\u001b[0m\n\u001b[1;32m    376\u001b[0m                     \u001b[0mretry_context\u001b[0m\u001b[0;34m.\u001b[0m\u001b[0mexception\u001b[0m \u001b[0;34m=\u001b[0m \u001b[0mex\u001b[0m\u001b[0;34m\u001b[0m\u001b[0;34m\u001b[0m\u001b[0m\n",
            "\u001b[0;32m/usr/local/lib/python3.7/dist-packages/azure/storage/common/storageclient.py\u001b[0m in \u001b[0;36m_perform_request\u001b[0;34m(self, request, parser, parser_args, operation_context, expected_errors)\u001b[0m\n\u001b[1;32m    358\u001b[0m                         \u001b[0;31m# and raised as an azure http exception\u001b[0m\u001b[0;34m\u001b[0m\u001b[0;34m\u001b[0m\u001b[0;34m\u001b[0m\u001b[0m\n\u001b[1;32m    359\u001b[0m                         _http_error_handler(\n\u001b[0;32m--> 360\u001b[0;31m                             HTTPError(response.status, response.message, response.headers, response.body))\n\u001b[0m\u001b[1;32m    361\u001b[0m \u001b[0;34m\u001b[0m\u001b[0m\n\u001b[1;32m    362\u001b[0m                     \u001b[0;31m# Parse the response\u001b[0m\u001b[0;34m\u001b[0m\u001b[0;34m\u001b[0m\u001b[0;34m\u001b[0m\u001b[0m\n",
            "\u001b[0;32m/usr/local/lib/python3.7/dist-packages/azure/storage/common/_error.py\u001b[0m in \u001b[0;36m_http_error_handler\u001b[0;34m(http_error)\u001b[0m\n\u001b[1;32m    113\u001b[0m     \u001b[0mex\u001b[0m\u001b[0;34m.\u001b[0m\u001b[0merror_code\u001b[0m \u001b[0;34m=\u001b[0m \u001b[0merror_code\u001b[0m\u001b[0;34m\u001b[0m\u001b[0;34m\u001b[0m\u001b[0m\n\u001b[1;32m    114\u001b[0m \u001b[0;34m\u001b[0m\u001b[0m\n\u001b[0;32m--> 115\u001b[0;31m     \u001b[0;32mraise\u001b[0m \u001b[0mex\u001b[0m\u001b[0;34m\u001b[0m\u001b[0;34m\u001b[0m\u001b[0m\n\u001b[0m\u001b[1;32m    116\u001b[0m \u001b[0;34m\u001b[0m\u001b[0m\n\u001b[1;32m    117\u001b[0m \u001b[0;34m\u001b[0m\u001b[0m\n",
            "\u001b[0;31mAzureMissingResourceHttpError\u001b[0m: The specified resource does not exist. ErrorCode: ResourceNotFound\n<?xml version=\"1.0\" encoding=\"utf-8\"?><Error><Code>ResourceNotFound</Code><Message>The specified resource does not exist.\nRequestId:0603d3b1-001a-001c-410a-f3fc7a000000\nTime:2022-11-08T00:38:13.8631255Z</Message></Error>"
          ]
        }
      ]
    },
    {
      "cell_type": "code",
      "source": [
        "# 공유 폴더의 삭제 \n",
        "\n",
        "file_service.delete_share('myshare')"
      ],
      "metadata": {
        "colab": {
          "base_uri": "https://localhost:8080/"
        },
        "id": "V9gjv-3XP2AX",
        "outputId": "5897960b-95b4-49bc-f17e-0cb74f2f5449"
      },
      "execution_count": null,
      "outputs": [
        {
          "output_type": "execute_result",
          "data": {
            "text/plain": [
              "True"
            ]
          },
          "metadata": {},
          "execution_count": 23
        }
      ]
    },
    {
      "cell_type": "code",
      "source": [],
      "metadata": {
        "id": "w80ojqMIP_NP"
      },
      "execution_count": null,
      "outputs": []
    }
  ]
}