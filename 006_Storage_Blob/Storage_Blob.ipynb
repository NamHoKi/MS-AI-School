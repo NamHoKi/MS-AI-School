{
  "nbformat": 4,
  "nbformat_minor": 0,
  "metadata": {
    "colab": {
      "provenance": []
    },
    "kernelspec": {
      "name": "python3",
      "display_name": "Python 3"
    },
    "language_info": {
      "name": "python"
    }
  },
  "cells": [
    {
      "cell_type": "code",
      "execution_count": null,
      "metadata": {
        "colab": {
          "base_uri": "https://localhost:8080/"
        },
        "id": "Ht0x8l0LtkPJ",
        "outputId": "59669d30-e83c-49e5-ad76-f6ab82167c4b"
      },
      "outputs": [
        {
          "output_type": "stream",
          "name": "stdout",
          "text": [
            "Looking in indexes: https://pypi.org/simple, https://us-python.pkg.dev/colab-wheels/public/simple/\n",
            "Collecting azure-storage-blob\n",
            "  Downloading azure_storage_blob-12.14.1-py3-none-any.whl (383 kB)\n",
            "\u001b[K     |████████████████████████████████| 383 kB 7.1 MB/s \n",
            "\u001b[?25hCollecting azure-core<2.0.0,>=1.24.2\n",
            "  Downloading azure_core-1.26.1-py3-none-any.whl (172 kB)\n",
            "\u001b[K     |████████████████████████████████| 172 kB 32.0 MB/s \n",
            "\u001b[?25hCollecting cryptography>=2.1.4\n",
            "  Downloading cryptography-38.0.3-cp36-abi3-manylinux_2_24_x86_64.whl (4.1 MB)\n",
            "\u001b[K     |████████████████████████████████| 4.1 MB 13.7 MB/s \n",
            "\u001b[?25hCollecting msrest>=0.7.1\n",
            "  Downloading msrest-0.7.1-py3-none-any.whl (85 kB)\n",
            "\u001b[K     |████████████████████████████████| 85 kB 2.0 MB/s \n",
            "\u001b[?25hRequirement already satisfied: typing-extensions>=4.0.1 in /usr/local/lib/python3.7/dist-packages (from azure-core<2.0.0,>=1.24.2->azure-storage-blob) (4.1.1)\n",
            "Requirement already satisfied: requests>=2.18.4 in /usr/local/lib/python3.7/dist-packages (from azure-core<2.0.0,>=1.24.2->azure-storage-blob) (2.23.0)\n",
            "Requirement already satisfied: six>=1.11.0 in /usr/local/lib/python3.7/dist-packages (from azure-core<2.0.0,>=1.24.2->azure-storage-blob) (1.15.0)\n",
            "Requirement already satisfied: cffi>=1.12 in /usr/local/lib/python3.7/dist-packages (from cryptography>=2.1.4->azure-storage-blob) (1.15.1)\n",
            "Requirement already satisfied: pycparser in /usr/local/lib/python3.7/dist-packages (from cffi>=1.12->cryptography>=2.1.4->azure-storage-blob) (2.21)\n",
            "Collecting isodate>=0.6.0\n",
            "  Downloading isodate-0.6.1-py2.py3-none-any.whl (41 kB)\n",
            "\u001b[K     |████████████████████████████████| 41 kB 343 kB/s \n",
            "\u001b[?25hRequirement already satisfied: requests-oauthlib>=0.5.0 in /usr/local/lib/python3.7/dist-packages (from msrest>=0.7.1->azure-storage-blob) (1.3.1)\n",
            "Requirement already satisfied: certifi>=2017.4.17 in /usr/local/lib/python3.7/dist-packages (from msrest>=0.7.1->azure-storage-blob) (2022.9.24)\n",
            "Requirement already satisfied: idna<3,>=2.5 in /usr/local/lib/python3.7/dist-packages (from requests>=2.18.4->azure-core<2.0.0,>=1.24.2->azure-storage-blob) (2.10)\n",
            "Requirement already satisfied: urllib3!=1.25.0,!=1.25.1,<1.26,>=1.21.1 in /usr/local/lib/python3.7/dist-packages (from requests>=2.18.4->azure-core<2.0.0,>=1.24.2->azure-storage-blob) (1.24.3)\n",
            "Requirement already satisfied: chardet<4,>=3.0.2 in /usr/local/lib/python3.7/dist-packages (from requests>=2.18.4->azure-core<2.0.0,>=1.24.2->azure-storage-blob) (3.0.4)\n",
            "Requirement already satisfied: oauthlib>=3.0.0 in /usr/local/lib/python3.7/dist-packages (from requests-oauthlib>=0.5.0->msrest>=0.7.1->azure-storage-blob) (3.2.2)\n",
            "Installing collected packages: isodate, azure-core, msrest, cryptography, azure-storage-blob\n",
            "Successfully installed azure-core-1.26.1 azure-storage-blob-12.14.1 cryptography-38.0.3 isodate-0.6.1 msrest-0.7.1\n"
          ]
        }
      ],
      "source": [
        "!pip install azure-storage-blob"
      ]
    },
    {
      "cell_type": "code",
      "source": [
        "# 필요한 패키지를 불러옵니다. \n",
        "import os, uuid\n",
        "from azure.storage.blob import BlobServiceClient, BlobClient, ContainerClient"
      ],
      "metadata": {
        "id": "1vDIptHkuAla"
      },
      "execution_count": null,
      "outputs": []
    },
    {
      "cell_type": "code",
      "source": [
        "# Blob 서비스에 연결합니다. \n",
        "connect_string = 'DefaultEndpointsProtocol=https;AccountName=labuser79storage2;AccountKey=OL2JMrSI/ascPt9MrVRzy9jMpwaT3lkBlYCzfBYOlS4rzyInFsdqInVbeMx9yQCmkQBV4zKrd5yT+AStTPY8xg==;EndpointSuffix=core.windows.net'\n",
        "\n",
        "blob_service_client = BlobServiceClient.from_connection_string(connect_string)"
      ],
      "metadata": {
        "id": "QXtC9sr2uil8"
      },
      "execution_count": null,
      "outputs": []
    },
    {
      "cell_type": "code",
      "source": [
        "# Container 생성한다. \n",
        "container_name = str(uuid.uuid4())\n",
        "print(container_name)\n",
        "\n",
        "container_client = blob_service_client.create_container(container_name)"
      ],
      "metadata": {
        "colab": {
          "base_uri": "https://localhost:8080/"
        },
        "id": "KCXTI3HKv3-_",
        "outputId": "32023127-64f0-4531-cbc8-7418109d85be"
      },
      "execution_count": null,
      "outputs": [
        {
          "output_type": "stream",
          "name": "stdout",
          "text": [
            "215b22a8-d87b-439a-8ea1-28dfcbe9639d\n"
          ]
        }
      ]
    },
    {
      "cell_type": "code",
      "source": [
        "# 데이터를 업로드 한다. \n",
        "\n",
        "local_path ='./data'\n",
        "os.mkdir(local_path)\n",
        "\n",
        "local_file_name = str(uuid.uuid4()) + '.txt'\n",
        "upload_file_path = os.path.join(local_path, local_file_name)"
      ],
      "metadata": {
        "id": "i1JAEeFPwuEd"
      },
      "execution_count": null,
      "outputs": []
    },
    {
      "cell_type": "code",
      "source": [
        "# 업로드 할 파일을 준비한다. \n",
        "file = open(file=upload_file_path, mode='w')\n",
        "file.write('Hello Azure Storage')\n",
        "file.close()\n",
        "\n",
        "blob_client = blob_service_client.get_blob_client(container=container_name,\n",
        "                                                  blob=local_file_name)\n",
        "\n",
        "# 파일 업로드 \n",
        "with open(file=upload_file_path, mode='rb') as data:\n",
        "  blob_client.upload_blob(data)"
      ],
      "metadata": {
        "id": "PFju6xsDx4RJ"
      },
      "execution_count": null,
      "outputs": []
    },
    {
      "cell_type": "code",
      "source": [
        "# 파일의 목록의 확인 \n",
        "blob_list = container_client.list_blobs()\n",
        "for blob in blob_list:\n",
        "  print('\\t' + blob.name)"
      ],
      "metadata": {
        "colab": {
          "base_uri": "https://localhost:8080/"
        },
        "id": "WRskh-C4zg9I",
        "outputId": "d454e19c-ac98-4aca-ceda-c91138127e5f"
      },
      "execution_count": null,
      "outputs": [
        {
          "output_type": "stream",
          "name": "stdout",
          "text": [
            "\t68a7dec2-9018-4baf-bd35-72049a5c9ccd.txt\n"
          ]
        }
      ]
    },
    {
      "cell_type": "code",
      "source": [
        "#업로드된 파일의 다운로드 \n",
        "\n",
        "download_file_path = os.path.join(local_path, \n",
        "                                  str.replace(local_file_name,'.txt','DOWNLOAD.txt'))\n",
        "container_client = blob_service_client.get_container_client(container= container_name) \n",
        "\n",
        "with open(file=download_file_path, mode='wb') as download_file:\n",
        "  download_file.write(container_client.download_blob(blob.name).readall())"
      ],
      "metadata": {
        "id": "KDJOnE-r1OI6"
      },
      "execution_count": null,
      "outputs": []
    },
    {
      "cell_type": "code",
      "source": [
        "# 실습한 자원의 정리\n",
        "print('Press the Enter key to begin clean up')\n",
        "input()\n",
        "\n",
        "print('Deleting blob container...')\n",
        "container_client.delete_container()\n",
        "\n",
        "print('Deleting the local source and downloaded files...')\n",
        "os.remove(upload_file_path)\n",
        "os.remove(download_file_path)\n",
        "os.rmdir(local_path)\n",
        "\n",
        "print('Done')"
      ],
      "metadata": {
        "colab": {
          "base_uri": "https://localhost:8080/"
        },
        "id": "GHqYpBXa2vkZ",
        "outputId": "aca67f7e-911f-4eeb-ae2b-1bd61dceecdf"
      },
      "execution_count": null,
      "outputs": [
        {
          "output_type": "stream",
          "name": "stdout",
          "text": [
            "Press the Enter key to begin clean up\n",
            "\n",
            "Deleting blob container...\n",
            "Deleting the local source and downloaded files...\n",
            "Done\n"
          ]
        }
      ]
    },
    {
      "cell_type": "code",
      "source": [],
      "metadata": {
        "id": "P79EOk927P18"
      },
      "execution_count": null,
      "outputs": []
    }
  ]
}