{
  "nbformat": 4,
  "nbformat_minor": 0,
  "metadata": {
    "colab": {
      "provenance": []
    },
    "kernelspec": {
      "name": "python3",
      "display_name": "Python 3"
    },
    "language_info": {
      "name": "python"
    }
  },
  "cells": [
    {
      "cell_type": "markdown",
      "source": [
        "# 공분산과 상관계수"
      ],
      "metadata": {
        "id": "aL8OoPahDgOa"
      }
    },
    {
      "cell_type": "markdown",
      "source": [
        "## 표본공분산(Sample covariance)\n",
        "\n",
        "$${s_{xy}}=\\frac{1}{N}\\Sigma({x_i}-\\hat{x})({y_i}-\\hat{y})$$"
      ],
      "metadata": {
        "id": "LmwbhEA4Dsy9"
      }
    },
    {
      "cell_type": "markdown",
      "source": [
        "## 표본상관계수(Sample correlation coefficient)\n",
        "\n",
        "공분산에 각각의 표준편차 값으로 나눈 값   \n",
        "각각의 표준편차를 나눠 주는 이유 자료 분포의 방향성만 분리해서 보기 위함과 표준화를 하기 위함\n",
        "\n",
        "$${r_{xy}} = \\frac{{s_{xy}}}{({s_x^2}{x_y^2})^{1/2}}$$\n",
        "\n",
        "$$-1 <= {r_{xy}} <= 1$$"
      ],
      "metadata": {
        "id": "0bSvK3KREIl0"
      }
    },
    {
      "cell_type": "code",
      "source": [
        "!pip install scikit-learn"
      ],
      "metadata": {
        "id": "AJtqjT_NHRlP"
      },
      "execution_count": null,
      "outputs": []
    },
    {
      "cell_type": "code",
      "source": [
        "!pip install koreanize-matplotlib"
      ],
      "metadata": {
        "id": "zw0EWnPIRCQV"
      },
      "execution_count": null,
      "outputs": []
    },
    {
      "cell_type": "code",
      "source": [
        "from sklearn.datasets import load_iris\n",
        "import scipy as sp\n",
        "import numpy as np\n",
        "import matplotlib.pyplot as plt\n",
        "import koreanize_matplotlib\n",
        "import statsmodels.api as sm\n",
        "import seaborn as sns"
      ],
      "metadata": {
        "id": "khyYjDsUGw_3"
      },
      "execution_count": null,
      "outputs": []
    },
    {
      "cell_type": "code",
      "source": [
        "X = load_iris()\n",
        "load_iris().keys()"
      ],
      "metadata": {
        "colab": {
          "base_uri": "https://localhost:8080/"
        },
        "id": "hZFam_oSHM70",
        "outputId": "0e9d2058-714e-41ec-f5e5-28d27412b6cb"
      },
      "execution_count": null,
      "outputs": [
        {
          "output_type": "execute_result",
          "data": {
            "text/plain": [
              "dict_keys(['data', 'target', 'frame', 'target_names', 'DESCR', 'feature_names', 'filename', 'data_module'])"
            ]
          },
          "metadata": {},
          "execution_count": 11
        }
      ]
    },
    {
      "cell_type": "code",
      "source": [
        "load_iris().feature_names"
      ],
      "metadata": {
        "colab": {
          "base_uri": "https://localhost:8080/"
        },
        "id": "3pEv915uHynK",
        "outputId": "7b5bfadd-4f31-44be-e607-b7da07ae793e"
      },
      "execution_count": null,
      "outputs": [
        {
          "output_type": "execute_result",
          "data": {
            "text/plain": [
              "['sepal length (cm)',\n",
              " 'sepal width (cm)',\n",
              " 'petal length (cm)',\n",
              " 'petal width (cm)']"
            ]
          },
          "metadata": {},
          "execution_count": 12
        }
      ]
    },
    {
      "cell_type": "code",
      "source": [
        "# X.data는 iris의 데이터 밸류값이 정리되어 있음,\n",
        "# X.feature_names 에 각각의 컬럼 이름이 정의되 있음\n",
        "# X.feature의 순서에 따라서 해당되는 데이터를 가져오는 코드\n",
        "sepal_length = X.data[:,0]\n",
        "sepal_width = X.data[:,1]\n",
        "petal_length = X.data[:,2]\n",
        "petal_width = X.data[:,3]\n",
        "sp.stats.pearsonr(sepal_length, petal_length)[0]"
      ],
      "metadata": {
        "colab": {
          "base_uri": "https://localhost:8080/"
        },
        "id": "MmBlVcioIJ6K",
        "outputId": "85fc93d6-2c10-406d-f570-9457181d2c3d"
      },
      "execution_count": null,
      "outputs": [
        {
          "output_type": "execute_result",
          "data": {
            "text/plain": [
              "0.8717537758865831"
            ]
          },
          "metadata": {},
          "execution_count": 19
        }
      ]
    },
    {
      "cell_type": "code",
      "source": [
        "# 슬라이싱 방법\n",
        "np_array = np.random.rand(5,7)\n",
        "print(np_array)\n",
        "np_array[:, 0]"
      ],
      "metadata": {
        "id": "AyAJlWEHKGrH"
      },
      "execution_count": null,
      "outputs": []
    },
    {
      "cell_type": "markdown",
      "source": [
        "## 상관계수 Scatter Plot\n"
      ],
      "metadata": {
        "id": "XlNAivoPI-pp"
      }
    },
    {
      "cell_type": "markdown",
      "source": [
        "피어슨 상관계수의 경우 선형적인 관계만을 측정하기 때문에 선형적이 않으면서 관계가 있는 데이터의 경우에 피어슨 상관계수는 0"
      ],
      "metadata": {
        "id": "arYcMkH3R6-j"
      }
    },
    {
      "cell_type": "code",
      "source": [
        "np.random.seed(0)\n",
        "corrs = [1, 0.7, 0.3, 0, -0.3, -0.7, -1]\n",
        "plt.figure(figsize=(len(corrs) , 2))\n",
        "for i, r in enumerate(corrs):\n",
        "  x, y, = np.random.multivariate_normal([0,0], [[1, r],[r, 1]], 1000).T\n",
        "  plt.subplot(1, len(corrs), i + 1)\n",
        "  plt.plot(x,y, 'ro', ms=1)\n",
        "  plt.axis('equal')\n",
        "  plt.xticks([])\n",
        "  plt.yticks([])\n",
        "  plt.title(f'corr : {r}')\n",
        "\n",
        "plt.suptitle('상관계수와 산점도 그래프의 모양', y=1.1)\n",
        "plt.tight_layout()\n",
        "plt.show()\n"
      ],
      "metadata": {
        "colab": {
          "base_uri": "https://localhost:8080/",
          "height": 179
        },
        "id": "zsvnQHA3Jikq",
        "outputId": "2e0b8c40-d82f-41b7-a339-82eaf21deec8"
      },
      "execution_count": null,
      "outputs": [
        {
          "output_type": "display_data",
          "data": {
            "text/plain": [
              "<Figure size 504x144 with 7 Axes>"
            ],
            "image/png": "[encoded data removed]"
          },
          "metadata": {}
        }
      ]
    },
    {
      "cell_type": "code",
      "source": [
        "# 랜덤 요소 제거\n",
        "np.random.seed(1)\n",
        "# 기울기 설정\n",
        "slops = [1, 0.7, 0.3, 0, -0.3, -0.7, -1]\n",
        "# 그래프 설정\n",
        "plt.figure(figsize=(len(slops),2))\n",
        "for i, s in enumerate(slops):\n",
        "  # 서브플롯 배경 그리기\n",
        "  plt.subplot(1, len(slops), i + 1)\n",
        "  # 다변수 표준정규분포\n",
        "  x, y = np.random.multivariate_normal([0,0], [[1,1], [1,1]], 100).T\n",
        "  # 기울기변경\n",
        "  y2 = s * y\n",
        "  # 데이터 플롯 그리기\n",
        "  plt.plot(x, y2, 'ro', ms=1)\n",
        "  # y값과 x값의 범위를 맞춰줌\n",
        "  plt.axis('equal')\n",
        "  # 특정된 x나 y값을 표현하는건데 지금은 아무것도 표현하지 않도록 설정\n",
        "  # 만약 아무것도 안주면 자동으로 생성하기 때문에 [] 인자 전달\n",
        "  plt.xticks([])\n",
        "  plt.yticks([])\n",
        "  if s > 0:\n",
        "    # 서브플롯의 제목\n",
        "    plt.title('corr=1')\n",
        "  elif s < 0:\n",
        "    plt.title('corr=-1')\n",
        "# 플롯의 대제목\n",
        "plt.suptitle('상관계수와 기울기의 관계', y=1.1)\n",
        "# 축의 글자가 겹치지 않도록 layout 설정\n",
        "plt.tight_layout()\n",
        "# 그래프 show\n",
        "plt.show()\n"
      ],
      "metadata": {
        "colab": {
          "base_uri": "https://localhost:8080/",
          "height": 179
        },
        "id": "uG5UHRDLMGLp",
        "outputId": "df77ad74-81f0-4ec5-e346-fc02b0906eaf"
      },
      "execution_count": null,
      "outputs": [
        {
          "output_type": "display_data",
          "data": {
            "text/plain": [
              "<Figure size 504x144 with 7 Axes>"
            ],
            "image/png": "[encoded data removed]"
          },
          "metadata": {}
        }
      ]
    },
    {
      "cell_type": "markdown",
      "source": [
        "### 상관관계 유의점"
      ],
      "metadata": {
        "id": "Kn6Rp8crc7Rs"
      }
    },
    {
      "cell_type": "code",
      "source": [
        "n = 500\n",
        "np.random.seed(2)\n",
        "\n",
        "plt.subplot(221)\n",
        "x1 = np.random.uniform(-1, 1, n)\n",
        "y1 = 2*x1**2 + np.random.uniform(-0.1, 0.1,n)\n",
        "plt.scatter(x1,y1)\n",
        "r1 = sp.stats.pearsonr(x1, y1)[0]\n",
        "plt.title(f'비선형 상관관계 : 1: r= {r1.round(3)}')\n",
        "\n",
        "plt.subplot(222)\n",
        "x2 = np.random.uniform(-1,1, n)\n",
        "y2 = 4 * (x2**2-0.5)**2 + 0.1 * np.random.uniform(-0.1, 0.1,n)\n",
        "plt.scatter(x2,y2)\n",
        "r2 = sp.stats.pearsonr(x2, y2)[0]\n",
        "plt.title(f'비선형 상관관계 2:r={r2.round(3)}')\n",
        "\n",
        "plt.subplot(223)\n",
        "x3 = np.random.uniform(-1,1, n)\n",
        "y3 = np.cos(x3 * np.pi) + np.random.uniform(0, 1/8, n)\n",
        "x3 = np.sin(x3 * np.pi) + np.random.uniform(0, 1/8, n)\n",
        "plt.scatter(x3, y3)\n",
        "r3 = sp.stats.pearsonr(x3, y3)[0]\n",
        "plt.title(f'비선형 상관관계 3 : r={r3.round(3)}')\n",
        "plt.tight_layout()\n",
        "plt.show()"
      ],
      "metadata": {
        "colab": {
          "base_uri": "https://localhost:8080/",
          "height": 297
        },
        "id": "CIKAy2yyMNQZ",
        "outputId": "50db8914-3c7b-4566-c30a-145b1333ae5b"
      },
      "execution_count": null,
      "outputs": [
        {
          "output_type": "display_data",
          "data": {
            "text/plain": [
              "<Figure size 432x288 with 3 Axes>"
            ],
            "image/png": "[encoded data removed]"
          },
          "metadata": {
            "needs_background": "light"
          }
        }
      ]
    },
    {
      "cell_type": "markdown",
      "source": [
        "#### 데이터 분포에 따른 유의점"
      ],
      "metadata": {
        "id": "s2RcHfqIMPDL"
      }
    },
    {
      "cell_type": "code",
      "source": [
        "data = sm.datasets.get_rdataset('anscombe')"
      ],
      "metadata": {
        "id": "sbQRKHgAMRsu"
      },
      "execution_count": null,
      "outputs": []
    },
    {
      "cell_type": "code",
      "source": [
        "df = data.data\n",
        "df[['x1','y1','x2','y2','x3','y3','x4','y4']]"
      ],
      "metadata": {
        "colab": {
          "base_uri": "https://localhost:8080/",
          "height": 394
        },
        "id": "5_iDawv_MWDr",
        "outputId": "032710b5-e340-4a70-a752-3ca021c31bae"
      },
      "execution_count": null,
      "outputs": [
        {
          "output_type": "execute_result",
          "data": {
            "text/plain": [
              "    x1     y1  x2    y2  x3     y3  x4     y4\n",
              "0   10   8.04  10  9.14  10   7.46   8   6.58\n",
              "1    8   6.95   8  8.14   8   6.77   8   5.76\n",
              "2   13   7.58  13  8.74  13  12.74   8   7.71\n",
              "3    9   8.81   9  8.77   9   7.11   8   8.84\n",
              "4   11   8.33  11  9.26  11   7.81   8   8.47\n",
              "5   14   9.96  14  8.10  14   8.84   8   7.04\n",
              "6    6   7.24   6  6.13   6   6.08   8   5.25\n",
              "7    4   4.26   4  3.10   4   5.39  19  12.50\n",
              "8   12  10.84  12  9.13  12   8.15   8   5.56\n",
              "9    7   4.82   7  7.26   7   6.42   8   7.91\n",
              "10   5   5.68   5  4.74   5   5.73   8   6.89"
            ],
            "text/html": [
              "\n",
              "  <div id=\"df-d921951c-37c2-494d-b00b-c35795c160e4\">\n",
              "    <div class=\"colab-df-container\">\n",
              "      <div>\n",
              "<style scoped>\n",
              "    .dataframe tbody tr th:only-of-type {\n",
              "        vertical-align: middle;\n",
              "    }\n",
              "\n",
              "    .dataframe tbody tr th {\n",
              "        vertical-align: top;\n",
              "    }\n",
              "\n",
              "    .dataframe thead th {\n",
              "        text-align: right;\n",
              "    }\n",
              "</style>\n",
              "<table border=\"1\" class=\"dataframe\">\n",
              "  <thead>\n",
              "    <tr style=\"text-align: right;\">\n",
              "      <th></th>\n",
              "      <th>x1</th>\n",
              "      <th>y1</th>\n",
              "      <th>x2</th>\n",
              "      <th>y2</th>\n",
              "      <th>x3</th>\n",
              "      <th>y3</th>\n",
              "      <th>x4</th>\n",
              "      <th>y4</th>\n",
              "    </tr>\n",
              "  </thead>\n",
              "  <tbody>\n",
              "    <tr>\n",
              "      <th>0</th>\n",
              "      <td>10</td>\n",
              "      <td>8.04</td>\n",
              "      <td>10</td>\n",
              "      <td>9.14</td>\n",
              "      <td>10</td>\n",
              "      <td>7.46</td>\n",
              "      <td>8</td>\n",
              "      <td>6.58</td>\n",
              "    </tr>\n",
              "    <tr>\n",
              "      <th>1</th>\n",
              "      <td>8</td>\n",
              "      <td>6.95</td>\n",
              "      <td>8</td>\n",
              "      <td>8.14</td>\n",
              "      <td>8</td>\n",
              "      <td>6.77</td>\n",
              "      <td>8</td>\n",
              "      <td>5.76</td>\n",
              "    </tr>\n",
              "    <tr>\n",
              "      <th>2</th>\n",
              "      <td>13</td>\n",
              "      <td>7.58</td>\n",
              "      <td>13</td>\n",
              "      <td>8.74</td>\n",
              "      <td>13</td>\n",
              "      <td>12.74</td>\n",
              "      <td>8</td>\n",
              "      <td>7.71</td>\n",
              "    </tr>\n",
              "    <tr>\n",
              "      <th>3</th>\n",
              "      <td>9</td>\n",
              "      <td>8.81</td>\n",
              "      <td>9</td>\n",
              "      <td>8.77</td>\n",
              "      <td>9</td>\n",
              "      <td>7.11</td>\n",
              "      <td>8</td>\n",
              "      <td>8.84</td>\n",
              "    </tr>\n",
              "    <tr>\n",
              "      <th>4</th>\n",
              "      <td>11</td>\n",
              "      <td>8.33</td>\n",
              "      <td>11</td>\n",
              "      <td>9.26</td>\n",
              "      <td>11</td>\n",
              "      <td>7.81</td>\n",
              "      <td>8</td>\n",
              "      <td>8.47</td>\n",
              "    </tr>\n",
              "    <tr>\n",
              "      <th>5</th>\n",
              "      <td>14</td>\n",
              "      <td>9.96</td>\n",
              "      <td>14</td>\n",
              "      <td>8.10</td>\n",
              "      <td>14</td>\n",
              "      <td>8.84</td>\n",
              "      <td>8</td>\n",
              "      <td>7.04</td>\n",
              "    </tr>\n",
              "    <tr>\n",
              "      <th>6</th>\n",
              "      <td>6</td>\n",
              "      <td>7.24</td>\n",
              "      <td>6</td>\n",
              "      <td>6.13</td>\n",
              "      <td>6</td>\n",
              "      <td>6.08</td>\n",
              "      <td>8</td>\n",
              "      <td>5.25</td>\n",
              "    </tr>\n",
              "    <tr>\n",
              "      <th>7</th>\n",
              "      <td>4</td>\n",
              "      <td>4.26</td>\n",
              "      <td>4</td>\n",
              "      <td>3.10</td>\n",
              "      <td>4</td>\n",
              "      <td>5.39</td>\n",
              "      <td>19</td>\n",
              "      <td>12.50</td>\n",
              "    </tr>\n",
              "    <tr>\n",
              "      <th>8</th>\n",
              "      <td>12</td>\n",
              "      <td>10.84</td>\n",
              "      <td>12</td>\n",
              "      <td>9.13</td>\n",
              "      <td>12</td>\n",
              "      <td>8.15</td>\n",
              "      <td>8</td>\n",
              "      <td>5.56</td>\n",
              "    </tr>\n",
              "    <tr>\n",
              "      <th>9</th>\n",
              "      <td>7</td>\n",
              "      <td>4.82</td>\n",
              "      <td>7</td>\n",
              "      <td>7.26</td>\n",
              "      <td>7</td>\n",
              "      <td>6.42</td>\n",
              "      <td>8</td>\n",
              "      <td>7.91</td>\n",
              "    </tr>\n",
              "    <tr>\n",
              "      <th>10</th>\n",
              "      <td>5</td>\n",
              "      <td>5.68</td>\n",
              "      <td>5</td>\n",
              "      <td>4.74</td>\n",
              "      <td>5</td>\n",
              "      <td>5.73</td>\n",
              "      <td>8</td>\n",
              "      <td>6.89</td>\n",
              "    </tr>\n",
              "  </tbody>\n",
              "</table>\n",
              "</div>\n",
              "      <button class=\"colab-df-convert\" onclick=\"convertToInteractive('df-d921951c-37c2-494d-b00b-c35795c160e4')\"\n",
              "              title=\"Convert this dataframe to an interactive table.\"\n",
              "              style=\"display:none;\">\n",
              "        \n",
              "  <svg xmlns=\"http://www.w3.org/2000/svg\" height=\"24px\"viewBox=\"0 0 24 24\"\n",
              "       width=\"24px\">\n",
              "    <path d=\"M0 0h24v24H0V0z\" fill=\"none\"/>\n",
              "    <path d=\"M18.56 5.44l.94 2.06.94-2.06 2.06-.94-2.06-.94-.94-2.06-.94 2.06-2.06.94zm-11 1L8.5 8.5l.94-2.06 2.06-.94-2.06-.94L8.5 2.5l-.94 2.06-2.06.94zm10 10l.94 2.06.94-2.06 2.06-.94-2.06-.94-.94-2.06-.94 2.06-2.06.94z\"/><path d=\"M17.41 7.96l-1.37-1.37c-.4-.4-.92-.59-1.43-.59-.52 0-1.04.2-1.43.59L10.3 9.45l-7.72 7.72c-.78.78-.78 2.05 0 2.83L4 21.41c.39.39.9.59 1.41.59.51 0 1.02-.2 1.41-.59l7.78-7.78 2.81-2.81c.8-.78.8-2.07 0-2.86zM5.41 20L4 18.59l7.72-7.72 1.47 1.35L5.41 20z\"/>\n",
              "  </svg>\n",
              "      </button>\n",
              "      \n",
              "  <style>\n",
              "    .colab-df-container {\n",
              "      display:flex;\n",
              "      flex-wrap:wrap;\n",
              "      gap: 12px;\n",
              "    }\n",
              "\n",
              "    .colab-df-convert {\n",
              "      background-color: #E8F0FE;\n",
              "      border: none;\n",
              "      border-radius: 50%;\n",
              "      cursor: pointer;\n",
              "      display: none;\n",
              "      fill: #1967D2;\n",
              "      height: 32px;\n",
              "      padding: 0 0 0 0;\n",
              "      width: 32px;\n",
              "    }\n",
              "\n",
              "    .colab-df-convert:hover {\n",
              "      background-color: #E2EBFA;\n",
              "      box-shadow: 0px 1px 2px rgba(60, 64, 67, 0.3), 0px 1px 3px 1px rgba(60, 64, 67, 0.15);\n",
              "      fill: #174EA6;\n",
              "    }\n",
              "\n",
              "    [theme=dark] .colab-df-convert {\n",
              "      background-color: #3B4455;\n",
              "      fill: #D2E3FC;\n",
              "    }\n",
              "\n",
              "    [theme=dark] .colab-df-convert:hover {\n",
              "      background-color: #434B5C;\n",
              "      box-shadow: 0px 1px 3px 1px rgba(0, 0, 0, 0.15);\n",
              "      filter: drop-shadow(0px 1px 2px rgba(0, 0, 0, 0.3));\n",
              "      fill: #FFFFFF;\n",
              "    }\n",
              "  </style>\n",
              "\n",
              "      <script>\n",
              "        const buttonEl =\n",
              "          document.querySelector('#df-d921951c-37c2-494d-b00b-c35795c160e4 button.colab-df-convert');\n",
              "        buttonEl.style.display =\n",
              "          google.colab.kernel.accessAllowed ? 'block' : 'none';\n",
              "\n",
              "        async function convertToInteractive(key) {\n",
              "          const element = document.querySelector('#df-d921951c-37c2-494d-b00b-c35795c160e4');\n",
              "          const dataTable =\n",
              "            await google.colab.kernel.invokeFunction('convertToInteractive',\n",
              "                                                     [key], {});\n",
              "          if (!dataTable) return;\n",
              "\n",
              "          const docLinkHtml = 'Like what you see? Visit the ' +\n",
              "            '<a target=\"_blank\" href=https://colab.research.google.com/notebooks/data_table.ipynb>data table notebook</a>'\n",
              "            + ' to learn more about interactive tables.';\n",
              "          element.innerHTML = '';\n",
              "          dataTable['output_type'] = 'display_data';\n",
              "          await google.colab.output.renderOutput(dataTable, element);\n",
              "          const docLink = document.createElement('div');\n",
              "          docLink.innerHTML = docLinkHtml;\n",
              "          element.appendChild(docLink);\n",
              "        }\n",
              "      </script>\n",
              "    </div>\n",
              "  </div>\n",
              "  "
            ]
          },
          "metadata": {},
          "execution_count": 64
        }
      ]
    },
    {
      "cell_type": "code",
      "source": [
        "plt.subplot(221)\n",
        "sns.regplot(x = 'x1', y = 'y1', data=df)\n",
        "plt.subplot(222)\n",
        "sns.regplot(x = 'x2', y = 'y2', data=df)\n",
        "plt.subplot(223)\n",
        "sns.regplot(x = 'x3', y = 'y3', data=df)\n",
        "plt.subplot(224)\n",
        "sns.regplot(x = 'x4', y = 'y4', data=df)\n",
        "plt.tight_layout()\n",
        "plt.subplots_adjust(top=0.9)\n",
        "plt.suptitle('anscomb data')\n",
        "plt.show()\n"
      ],
      "metadata": {
        "colab": {
          "base_uri": "https://localhost:8080/",
          "height": 302
        },
        "id": "t_H_sfk3eC17",
        "outputId": "6c8b1fcb-a06d-49cb-9a38-f917ae7e50af"
      },
      "execution_count": null,
      "outputs": [
        {
          "output_type": "display_data",
          "data": {
            "text/plain": [
              "<Figure size 432x288 with 4 Axes>"
            ],
            "image/png": "[encoded data removed]"
          },
          "metadata": {
            "needs_background": "light"
          }
        }
      ]
    },
    {
      "cell_type": "code",
      "source": [
        "for i in range(1,5):\n",
        "  print(f'x{i}, y{i} 의 상관계수', sp.stats.pearsonr(df[f'x{i}'], df[f'y{i}'])[0])"
      ],
      "metadata": {
        "colab": {
          "base_uri": "https://localhost:8080/"
        },
        "id": "OOGgtjqqe39_",
        "outputId": "23845e99-725b-429b-ab12-d9b53a7dc79f"
      },
      "execution_count": null,
      "outputs": [
        {
          "output_type": "stream",
          "name": "stdout",
          "text": [
            "x1, y1 의 상관계수 0.81642051634484\n",
            "x2, y2 의 상관계수 0.8162365060002427\n",
            "x3, y3 의 상관계수 0.8162867394895982\n",
            "x4, y4 의 상관계수 0.8165214368885029\n"
          ]
        }
      ]
    },
    {
      "cell_type": "code",
      "source": [],
      "metadata": {
        "id": "7NIsseHMfEfY"
      },
      "execution_count": null,
      "outputs": []
    }
  ]
}