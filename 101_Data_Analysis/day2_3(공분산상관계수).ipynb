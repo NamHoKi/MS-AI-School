{
  "nbformat": 4,
  "nbformat_minor": 0,
  "metadata": {
    "colab": {
      "private_outputs": true,
      "provenance": []
    },
    "kernelspec": {
      "name": "python3",
      "display_name": "Python 3"
    },
    "language_info": {
      "name": "python"
    }
  },
  "cells": [
    {
      "cell_type": "markdown",
      "source": [
        "## 공분산\n",
        "\n",
        "$$c=\\frac{1}{n-1}\\Sigma({x_i}-\\hat{x})({y_i}-\\hat{y})$$\n",
        "- 변수간 선형 관계를 확인하는 값\n",
        "- 양의 기울기를 가지고 있으면 c 양수\n",
        "- 음의 기울기를 가지고 있으면 c 음수\n"
      ],
      "metadata": {
        "id": "9KoRGve2amqr"
      }
    },
    {
      "cell_type": "code",
      "source": [
        "import seaborn as sns\n",
        "iris = sns.load_dataset('iris')"
      ],
      "metadata": {
        "id": "MysLVr2bh6NT"
      },
      "execution_count": null,
      "outputs": []
    },
    {
      "cell_type": "code",
      "source": [
        "iris.columns"
      ],
      "metadata": {
        "id": "pfAYCdW8iuS_"
      },
      "execution_count": null,
      "outputs": []
    },
    {
      "cell_type": "code",
      "source": [
        "from matplotlib.colorbar import constrained_layout\n",
        "# 산점도\n",
        "import matplotlib.pyplot as plt\n",
        "colors = ['r', 'g', 'b']\n",
        "markers = ['s', 'c', 'r']\n",
        "\n",
        "fig, ax = plt.subplots(4,4, figsize=(12, 12))\n",
        "col_names = ['sepal_length','sepal_width','petal_length','petal_width']\n",
        "\n",
        "for i, col1 in enumerate(col_names):\n",
        "  for j, col2 in enumerate(col_names):\n",
        "    for k, species in enumerate(iris['species'].unique()):\n",
        "      siris = iris[iris['species']==species]\n",
        "      siris.plot.scatter(x = col1, y = col2, alpha=0.6, ax=ax[j][i],\n",
        "                         color=colors[k])\n",
        "\n",
        "plt.show()\n",
        "\n",
        "\n",
        "'''\n",
        "sepal_length, sepal_width\n",
        "sepal_width, petal_length\n",
        "petal_width, peatl_length\n",
        "'''"
      ],
      "metadata": {
        "id": "fz0j7HleiHtn"
      },
      "execution_count": null,
      "outputs": []
    },
    {
      "cell_type": "code",
      "source": [
        "import numpy as np\n",
        "'''\n",
        "sepal_length, sepal_width\n",
        "sepal_width, petal_length\n",
        "petal_width, petal_length\n",
        "'''\n",
        "# ['setosa', 'versicolor', 'virginica']\n",
        "# iris['species'].unique()\n",
        "setosa = iris[iris['species'] == 'setosa']\n",
        "versicolor = iris[iris['species'] == 'versicolor']\n",
        "virginica = iris[iris['species'] == 'virginica']\n",
        "\n",
        "\n",
        "np.cov(setosa['sepal_length'], setosa['sepal_width'])[0,1]"
      ],
      "metadata": {
        "id": "jI8gdGPbj3WB"
      },
      "execution_count": null,
      "outputs": []
    },
    {
      "cell_type": "code",
      "source": [
        "np.cov(setosa['sepal_width'], setosa['petal_length'])[0,1]"
      ],
      "metadata": {
        "id": "GEPBbMqpmRti"
      },
      "execution_count": null,
      "outputs": []
    },
    {
      "cell_type": "code",
      "source": [
        "np.cov(versicolor['petal_width'], versicolor['petal_length'])[0,1]"
      ],
      "metadata": {
        "id": "FqgaHCXbnrGZ"
      },
      "execution_count": null,
      "outputs": []
    },
    {
      "cell_type": "code",
      "source": [
        "np.cov(virginica['petal_width'], virginica['sepal_length'])[0,1]"
      ],
      "metadata": {
        "id": "XglSDYEeoJDO"
      },
      "execution_count": null,
      "outputs": []
    },
    {
      "cell_type": "code",
      "source": [],
      "metadata": {
        "id": "j7lddudrof46"
      },
      "execution_count": null,
      "outputs": []
    },
    {
      "cell_type": "markdown",
      "source": [
        "## 상관계수\n",
        "\n",
        "- 공분산은 측정 값이 변수의 단위에 영향을 미침\n",
        "- 공분산을 좀 표준화, 스케일링 등을 통해 -1 ~ 1의 값이 나올 수 있게 만든 것이 상관계수\n",
        "- 피어슨 상관계수\n",
        "\n",
        "![image.png](data:image/png;base64,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)"
      ],
      "metadata": {
        "id": "je4yjsRkpRWN"
      }
    },
    {
      "cell_type": "code",
      "source": [
        "np.corrcoef(setosa['sepal_length'], setosa['sepal_width'])[0,1]"
      ],
      "metadata": {
        "id": "lyHaYjg4qlUb"
      },
      "execution_count": null,
      "outputs": []
    },
    {
      "cell_type": "code",
      "source": [
        "np.corrcoef(setosa['sepal_width'], setosa['petal_length'])[0,1]"
      ],
      "metadata": {
        "id": "ODh0aATDqyre"
      },
      "execution_count": null,
      "outputs": []
    },
    {
      "cell_type": "code",
      "source": [
        "np.corrcoef(versicolor['petal_width'], versicolor['petal_length'])[0,1]"
      ],
      "metadata": {
        "id": "aZgjy6Bfq-Oc"
      },
      "execution_count": null,
      "outputs": []
    },
    {
      "cell_type": "code",
      "source": [
        "np.corrcoef(virginica['petal_width'], virginica['sepal_length'])[0,1]"
      ],
      "metadata": {
        "id": "uFV2LG-PrMIV"
      },
      "execution_count": null,
      "outputs": []
    },
    {
      "cell_type": "code",
      "source": [],
      "metadata": {
        "id": "g2fvM7J2rNub"
      },
      "execution_count": null,
      "outputs": []
    }
  ]
}