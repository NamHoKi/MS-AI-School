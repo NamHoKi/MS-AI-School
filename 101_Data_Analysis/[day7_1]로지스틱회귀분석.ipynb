{
  "nbformat": 4,
  "nbformat_minor": 0,
  "metadata": {
    "colab": {
      "provenance": []
    },
    "kernelspec": {
      "name": "python3",
      "display_name": "Python 3"
    },
    "language_info": {
      "name": "python"
    }
  },
  "cells": [
    {
      "cell_type": "code",
      "source": [
        "!pip install koreanize-matplotlib\n",
        "import koreanize_matplotlib"
      ],
      "metadata": {
        "colab": {
          "base_uri": "https://localhost:8080/"
        },
        "id": "j3IVdURW5QA5",
        "outputId": "362c34db-2984-41b2-8d2a-a9d4e5aeafc5"
      },
      "execution_count": null,
      "outputs": [
        {
          "output_type": "stream",
          "name": "stdout",
          "text": [
            "Looking in indexes: https://pypi.org/simple, https://us-python.pkg.dev/colab-wheels/public/simple/\n",
            "Collecting koreanize-matplotlib\n",
            "  Downloading koreanize_matplotlib-0.0.1-py3-none-any.whl (2.5 MB)\n",
            "\u001b[K     |████████████████████████████████| 2.5 MB 5.0 MB/s \n",
            "\u001b[?25hRequirement already satisfied: matplotlib in /usr/local/lib/python3.7/dist-packages (from koreanize-matplotlib) (3.2.2)\n",
            "Requirement already satisfied: kiwisolver>=1.0.1 in /usr/local/lib/python3.7/dist-packages (from matplotlib->koreanize-matplotlib) (1.4.4)\n",
            "Requirement already satisfied: cycler>=0.10 in /usr/local/lib/python3.7/dist-packages (from matplotlib->koreanize-matplotlib) (0.11.0)\n",
            "Requirement already satisfied: python-dateutil>=2.1 in /usr/local/lib/python3.7/dist-packages (from matplotlib->koreanize-matplotlib) (2.8.2)\n",
            "Requirement already satisfied: pyparsing!=2.0.4,!=2.1.2,!=2.1.6,>=2.0.1 in /usr/local/lib/python3.7/dist-packages (from matplotlib->koreanize-matplotlib) (3.0.9)\n",
            "Requirement already satisfied: numpy>=1.11 in /usr/local/lib/python3.7/dist-packages (from matplotlib->koreanize-matplotlib) (1.21.6)\n",
            "Requirement already satisfied: typing-extensions in /usr/local/lib/python3.7/dist-packages (from kiwisolver>=1.0.1->matplotlib->koreanize-matplotlib) (4.1.1)\n",
            "Requirement already satisfied: six>=1.5 in /usr/local/lib/python3.7/dist-packages (from python-dateutil>=2.1->matplotlib->koreanize-matplotlib) (1.15.0)\n",
            "Installing collected packages: koreanize-matplotlib\n",
            "Successfully installed koreanize-matplotlib-0.0.1\n"
          ]
        }
      ]
    },
    {
      "cell_type": "markdown",
      "source": [
        "# 로지스틱 회귀분석\n",
        "종속변수가 0이나 1을 가지는 이항분포를 이며 모수μ 가 독립변수에 의존한다고 가정   \n",
        "종속변수 y는 0,1 값\n",
        "$$\\hat{y} = μ(x)$$\n",
        "$$y =0 \\quad if \\quad \\mu(x) <0.5$$\n",
        "$$y =1 \\quad if \\quad \\mu(x) >=0.5$$"
      ],
      "metadata": {
        "id": "gN23ZzjG1P__"
      }
    },
    {
      "cell_type": "markdown",
      "source": [
        "## 시그모이드(Sigmoid)\n",
        "- (a,b)사이의 값을 가지는 함수 a < f(x) < b\n",
        "- 항상 양의 기울기를 가지는 함수 if a > b -> f(a) > f(b)\n",
        "- 종류\n",
        "  - 로지스틱 함수\n",
        "$$logistic(z) = σ(x) = \\frac{1}{1+exp(-z)}$$\n",
        "  - 하이퍼볼릭탄젠트\n",
        "  - 오차함수"
      ],
      "metadata": {
        "id": "SN5LByFA3EJd"
      }
    },
    {
      "cell_type": "code",
      "source": [
        "import numpy as np\n",
        "import matplotlib.pyplot as plt\n",
        "import scipy as sp\n",
        "from scipy import special\n",
        "\n",
        "xx = np.linspace(-5, 5, 1000)\n",
        "plt.plot(xx, 1/(1+np.exp(-xx)), 'r-', label='로지스틱함수')\n",
        "plt.plot(xx, scipy.special.erf(0.5*np.sqrt(np.pi)**xx), 'g:', label='오차함수')\n",
        "plt.plot(xx, np.tanh(xx), 'b--', label='하이퍼볼릭탄젠트함수')\n",
        "plt.ylim([-1.2,1.1])\n",
        "plt.legend()\n",
        "plt.xlabel('x')\n",
        "plt.grid()\n",
        "plt.show()"
      ],
      "metadata": {
        "colab": {
          "base_uri": "https://localhost:8080/",
          "height": 277
        },
        "id": "TXISY2Mc4474",
        "outputId": "38ee6592-b142-4529-b671-4f6c548a4464"
      },
      "execution_count": null,
      "outputs": [
        {
          "output_type": "display_data",
          "data": {
            "text/plain": [
              "<Figure size 432x288 with 1 Axes>"
            ],
            "image/png": "[encoded data removed]"
          },
          "metadata": {
            "needs_background": "light"
          }
        }
      ]
    },
    {
      "cell_type": "markdown",
      "source": [
        "### 로지스틱함수\n",
        "베르누이 분포의 1이 나올 확률 μ와 (1-μ)의 비율\n",
        "$$odds ratio = \\frac{μ}{1-μ}$$"
      ],
      "metadata": {
        "id": "8KPXs1Ek53Jp"
      }
    },
    {
      "cell_type": "markdown",
      "source": [
        "로지스틱 회귀분석은 w가 모수"
      ],
      "metadata": {
        "id": "_TFJFm0P7PXV"
      }
    },
    {
      "cell_type": "code",
      "source": [
        "from sklearn.datasets import make_classification\n",
        "import seaborn as sns\n",
        "\n",
        "X0, y = make_classification(n_features=1, n_redundant=0, n_informative=1, n_clusters_per_class=1, random_state=4)\n",
        "plt.scatter(X0, y, c=y, s=100, edgecolors='k', linewidth=2)\n",
        "sns.distplot(X0[y==0,:], label='y = 0', hist=False)\n",
        "sns.distplot(X0[y==1,:], label='y = 1', hist=False)\n",
        "plt.ylim(-0.2, 1.2)\n",
        "plt.legend()\n",
        "plt.grid()\n",
        "plt.show()"
      ],
      "metadata": {
        "colab": {
          "base_uri": "https://localhost:8080/",
          "height": 363
        },
        "id": "GRp4qMVa7ueL",
        "outputId": "f160bae8-bc67-48ad-e0f0-79a8143fe60a"
      },
      "execution_count": null,
      "outputs": [
        {
          "output_type": "stream",
          "name": "stderr",
          "text": [
            "/usr/local/lib/python3.7/dist-packages/seaborn/distributions.py:2619: FutureWarning: `distplot` is a deprecated function and will be removed in a future version. Please adapt your code to use either `displot` (a figure-level function with similar flexibility) or `kdeplot` (an axes-level function for kernel density plots).\n",
            "  warnings.warn(msg, FutureWarning)\n",
            "/usr/local/lib/python3.7/dist-packages/seaborn/distributions.py:2619: FutureWarning: `distplot` is a deprecated function and will be removed in a future version. Please adapt your code to use either `displot` (a figure-level function with similar flexibility) or `kdeplot` (an axes-level function for kernel density plots).\n",
            "  warnings.warn(msg, FutureWarning)\n"
          ]
        },
        {
          "output_type": "display_data",
          "data": {
            "text/plain": [
              "<Figure size 432x288 with 1 Axes>"
            ],
            "image/png": "[encoded data removed]"
          },
          "metadata": {
            "needs_background": "light"
          }
        }
      ]
    },
    {
      "cell_type": "code",
      "source": [
        "import statsmodels.api as sm\n",
        "X = sm.add_constant(X0)\n",
        "logit_mod = sm.Logit(y, X)\n",
        "logit_res = logit_mod.fit(disp=0)\n",
        "print(logit_res.summary())\n"
      ],
      "metadata": {
        "colab": {
          "base_uri": "https://localhost:8080/"
        },
        "id": "g544wIZj8b9U",
        "outputId": "c894551e-ae28-4b4d-86fe-f5df36e80098"
      },
      "execution_count": null,
      "outputs": [
        {
          "output_type": "stream",
          "name": "stdout",
          "text": [
            "                           Logit Regression Results                           \n",
            "==============================================================================\n",
            "Dep. Variable:                      y   No. Observations:                  100\n",
            "Model:                          Logit   Df Residuals:                       98\n",
            "Method:                           MLE   Df Model:                            1\n",
            "Date:                Wed, 30 Nov 2022   Pseudo R-squ.:                  0.7679\n",
            "Time:                        00:37:51   Log-Likelihood:                -16.084\n",
            "converged:                       True   LL-Null:                       -69.295\n",
            "Covariance Type:            nonrobust   LLR p-value:                 5.963e-25\n",
            "==============================================================================\n",
            "                 coef    std err          z      P>|z|      [0.025      0.975]\n",
            "------------------------------------------------------------------------------\n",
            "const          0.2515      0.477      0.527      0.598      -0.683       1.186\n",
            "x1             4.2382      0.902      4.699      0.000       2.470       6.006\n",
            "==============================================================================\n"
          ]
        }
      ]
    },
    {
      "cell_type": "code",
      "source": [
        "xx = np.linspace(-3, 3, 100)\n",
        "mu = logit_res.predict(sm.add_constant(xx))\n",
        "plt.scatter(X0, y, c=y, s=100, edgecolors='k', linewidth=2)\n",
        "plt.scatter(X0, logit_res.predict(X), label='예측값', marker='s', c=y, s=100, edgecolor='k', lw=1)\n",
        "plt.plot(xx, mu, lw=3)\n",
        "plt.legend()\n",
        "plt.grid()"
      ],
      "metadata": {
        "colab": {
          "base_uri": "https://localhost:8080/",
          "height": 264
        },
        "id": "-Nzt5eqK9-XI",
        "outputId": "d491fb2a-c634-48ec-c576-bff9f409d11a"
      },
      "execution_count": null,
      "outputs": [
        {
          "output_type": "display_data",
          "data": {
            "text/plain": [
              "<Figure size 432x288 with 1 Axes>"
            ],
            "image/png": "[encoded data removed]"
          },
          "metadata": {
            "needs_background": "light"
          }
        }
      ]
    },
    {
      "cell_type": "code",
      "source": [
        "plt.scatter(X0, y, c=y, s=100, edgecolor='k', lw=2, label='데이터')\n",
        "plt.plot(X0, logit_res.fittedvalues*0.1, label='판별함수값')\n",
        "plt.legend()\n",
        "plt.grid()\n",
        "plt.show()"
      ],
      "metadata": {
        "colab": {
          "base_uri": "https://localhost:8080/",
          "height": 264
        },
        "id": "b-YPZoXh-_53",
        "outputId": "2e84712b-c9a6-4af4-bdb9-d97b773b26f5"
      },
      "execution_count": null,
      "outputs": [
        {
          "output_type": "display_data",
          "data": {
            "text/plain": [
              "<Figure size 432x288 with 1 Axes>"
            ],
            "image/png": "[encoded data removed]"
          },
          "metadata": {
            "needs_background": "light"
          }
        }
      ]
    },
    {
      "cell_type": "markdown",
      "source": [
        "예제\n",
        "미국 의대생 입학관련 데이터.\n",
        "- Acceptance : 0이면 불합격, 1이면 합격\n",
        "- BCPM: Bio/Chem/Physics/Math 과목의 평균\n",
        "- GPG : 전체과목의 학점 평균\n",
        "- VR : MCAT Verbal reasoning 과목 점수\n",
        "- PS : MCAT Physical sciences 과목 점수\n",
        "- WS : MCAT Writing sample 과목 점수\n",
        "- BS : MCAT Biological sciences 과목 점수\n",
        "- MCAT :MCAT 총점\n",
        "- Apps : 의대 지원 횟수"
      ],
      "metadata": {
        "id": "QQEhyd8O_4x0"
      }
    },
    {
      "cell_type": "code",
      "source": [
        "data_med = sm.datasets.get_rdataset('MedGPA', package='Stat2Data')\n",
        "df_med = data_med.data\n",
        "df_med.tail()"
      ],
      "metadata": {
        "colab": {
          "base_uri": "https://localhost:8080/",
          "height": 206
        },
        "id": "StUBhHAwA5Qw",
        "outputId": "e942a3ad-76e9-445b-c671-f5ba1748ada3"
      },
      "execution_count": null,
      "outputs": [
        {
          "output_type": "execute_result",
          "data": {
            "text/plain": [
              "   Accept  Acceptance Sex  BCPM   GPA  VR  PS   WS  BS  MCAT  Apps\n",
              "50      D           0   M  2.41  2.72   8   8  8.0   8    32     7\n",
              "51      D           0   M  3.51  3.56  11   8  6.0   9    34     6\n",
              "52      A           1   F  3.43  3.48   7  10  7.0  10    34    14\n",
              "53      D           0   M  2.61  2.80   7   5  NaN   6    18     6\n",
              "54      D           0   M  3.36  3.44  11  11  8.0   9    39     1"
            ],
            "text/html": [
              "\n",
              "  <div id=\"df-9b7e3f71-0312-4bf9-ab92-3617ffa0ece1\">\n",
              "    <div class=\"colab-df-container\">\n",
              "      <div>\n",
              "<style scoped>\n",
              "    .dataframe tbody tr th:only-of-type {\n",
              "        vertical-align: middle;\n",
              "    }\n",
              "\n",
              "    .dataframe tbody tr th {\n",
              "        vertical-align: top;\n",
              "    }\n",
              "\n",
              "    .dataframe thead th {\n",
              "        text-align: right;\n",
              "    }\n",
              "</style>\n",
              "<table border=\"1\" class=\"dataframe\">\n",
              "  <thead>\n",
              "    <tr style=\"text-align: right;\">\n",
              "      <th></th>\n",
              "      <th>Accept</th>\n",
              "      <th>Acceptance</th>\n",
              "      <th>Sex</th>\n",
              "      <th>BCPM</th>\n",
              "      <th>GPA</th>\n",
              "      <th>VR</th>\n",
              "      <th>PS</th>\n",
              "      <th>WS</th>\n",
              "      <th>BS</th>\n",
              "      <th>MCAT</th>\n",
              "      <th>Apps</th>\n",
              "    </tr>\n",
              "  </thead>\n",
              "  <tbody>\n",
              "    <tr>\n",
              "      <th>50</th>\n",
              "      <td>D</td>\n",
              "      <td>0</td>\n",
              "      <td>M</td>\n",
              "      <td>2.41</td>\n",
              "      <td>2.72</td>\n",
              "      <td>8</td>\n",
              "      <td>8</td>\n",
              "      <td>8.0</td>\n",
              "      <td>8</td>\n",
              "      <td>32</td>\n",
              "      <td>7</td>\n",
              "    </tr>\n",
              "    <tr>\n",
              "      <th>51</th>\n",
              "      <td>D</td>\n",
              "      <td>0</td>\n",
              "      <td>M</td>\n",
              "      <td>3.51</td>\n",
              "      <td>3.56</td>\n",
              "      <td>11</td>\n",
              "      <td>8</td>\n",
              "      <td>6.0</td>\n",
              "      <td>9</td>\n",
              "      <td>34</td>\n",
              "      <td>6</td>\n",
              "    </tr>\n",
              "    <tr>\n",
              "      <th>52</th>\n",
              "      <td>A</td>\n",
              "      <td>1</td>\n",
              "      <td>F</td>\n",
              "      <td>3.43</td>\n",
              "      <td>3.48</td>\n",
              "      <td>7</td>\n",
              "      <td>10</td>\n",
              "      <td>7.0</td>\n",
              "      <td>10</td>\n",
              "      <td>34</td>\n",
              "      <td>14</td>\n",
              "    </tr>\n",
              "    <tr>\n",
              "      <th>53</th>\n",
              "      <td>D</td>\n",
              "      <td>0</td>\n",
              "      <td>M</td>\n",
              "      <td>2.61</td>\n",
              "      <td>2.80</td>\n",
              "      <td>7</td>\n",
              "      <td>5</td>\n",
              "      <td>NaN</td>\n",
              "      <td>6</td>\n",
              "      <td>18</td>\n",
              "      <td>6</td>\n",
              "    </tr>\n",
              "    <tr>\n",
              "      <th>54</th>\n",
              "      <td>D</td>\n",
              "      <td>0</td>\n",
              "      <td>M</td>\n",
              "      <td>3.36</td>\n",
              "      <td>3.44</td>\n",
              "      <td>11</td>\n",
              "      <td>11</td>\n",
              "      <td>8.0</td>\n",
              "      <td>9</td>\n",
              "      <td>39</td>\n",
              "      <td>1</td>\n",
              "    </tr>\n",
              "  </tbody>\n",
              "</table>\n",
              "</div>\n",
              "      <button class=\"colab-df-convert\" onclick=\"convertToInteractive('df-9b7e3f71-0312-4bf9-ab92-3617ffa0ece1')\"\n",
              "              title=\"Convert this dataframe to an interactive table.\"\n",
              "              style=\"display:none;\">\n",
              "        \n",
              "  <svg xmlns=\"http://www.w3.org/2000/svg\" height=\"24px\"viewBox=\"0 0 24 24\"\n",
              "       width=\"24px\">\n",
              "    <path d=\"M0 0h24v24H0V0z\" fill=\"none\"/>\n",
              "    <path d=\"M18.56 5.44l.94 2.06.94-2.06 2.06-.94-2.06-.94-.94-2.06-.94 2.06-2.06.94zm-11 1L8.5 8.5l.94-2.06 2.06-.94-2.06-.94L8.5 2.5l-.94 2.06-2.06.94zm10 10l.94 2.06.94-2.06 2.06-.94-2.06-.94-.94-2.06-.94 2.06-2.06.94z\"/><path d=\"M17.41 7.96l-1.37-1.37c-.4-.4-.92-.59-1.43-.59-.52 0-1.04.2-1.43.59L10.3 9.45l-7.72 7.72c-.78.78-.78 2.05 0 2.83L4 21.41c.39.39.9.59 1.41.59.51 0 1.02-.2 1.41-.59l7.78-7.78 2.81-2.81c.8-.78.8-2.07 0-2.86zM5.41 20L4 18.59l7.72-7.72 1.47 1.35L5.41 20z\"/>\n",
              "  </svg>\n",
              "      </button>\n",
              "      \n",
              "  <style>\n",
              "    .colab-df-container {\n",
              "      display:flex;\n",
              "      flex-wrap:wrap;\n",
              "      gap: 12px;\n",
              "    }\n",
              "\n",
              "    .colab-df-convert {\n",
              "      background-color: #E8F0FE;\n",
              "      border: none;\n",
              "      border-radius: 50%;\n",
              "      cursor: pointer;\n",
              "      display: none;\n",
              "      fill: #1967D2;\n",
              "      height: 32px;\n",
              "      padding: 0 0 0 0;\n",
              "      width: 32px;\n",
              "    }\n",
              "\n",
              "    .colab-df-convert:hover {\n",
              "      background-color: #E2EBFA;\n",
              "      box-shadow: 0px 1px 2px rgba(60, 64, 67, 0.3), 0px 1px 3px 1px rgba(60, 64, 67, 0.15);\n",
              "      fill: #174EA6;\n",
              "    }\n",
              "\n",
              "    [theme=dark] .colab-df-convert {\n",
              "      background-color: #3B4455;\n",
              "      fill: #D2E3FC;\n",
              "    }\n",
              "\n",
              "    [theme=dark] .colab-df-convert:hover {\n",
              "      background-color: #434B5C;\n",
              "      box-shadow: 0px 1px 3px 1px rgba(0, 0, 0, 0.15);\n",
              "      filter: drop-shadow(0px 1px 2px rgba(0, 0, 0, 0.3));\n",
              "      fill: #FFFFFF;\n",
              "    }\n",
              "  </style>\n",
              "\n",
              "      <script>\n",
              "        const buttonEl =\n",
              "          document.querySelector('#df-9b7e3f71-0312-4bf9-ab92-3617ffa0ece1 button.colab-df-convert');\n",
              "        buttonEl.style.display =\n",
              "          google.colab.kernel.accessAllowed ? 'block' : 'none';\n",
              "\n",
              "        async function convertToInteractive(key) {\n",
              "          const element = document.querySelector('#df-9b7e3f71-0312-4bf9-ab92-3617ffa0ece1');\n",
              "          const dataTable =\n",
              "            await google.colab.kernel.invokeFunction('convertToInteractive',\n",
              "                                                     [key], {});\n",
              "          if (!dataTable) return;\n",
              "\n",
              "          const docLinkHtml = 'Like what you see? Visit the ' +\n",
              "            '<a target=\"_blank\" href=https://colab.research.google.com/notebooks/data_table.ipynb>data table notebook</a>'\n",
              "            + ' to learn more about interactive tables.';\n",
              "          element.innerHTML = '';\n",
              "          dataTable['output_type'] = 'display_data';\n",
              "          await google.colab.output.renderOutput(dataTable, element);\n",
              "          const docLink = document.createElement('div');\n",
              "          docLink.innerHTML = docLinkHtml;\n",
              "          element.appendChild(docLink);\n",
              "        }\n",
              "      </script>\n",
              "    </div>\n",
              "  </div>\n",
              "  "
            ]
          },
          "metadata": {},
          "execution_count": 22
        }
      ]
    },
    {
      "cell_type": "code",
      "source": [
        "sns.stripplot(x='GPA', y='Acceptance', data=df_med, jitter=True, orient='h', order=[1,0])\n",
        "# plt.scatter(df_med.GPA, df_med.Acceptance)\n",
        "plt.grid(True)\n",
        "plt.show()"
      ],
      "metadata": {
        "colab": {
          "base_uri": "https://localhost:8080/",
          "height": 277
        },
        "id": "oeCs5A47ECL-",
        "outputId": "58f5e7c5-71b9-4141-c541-b1ed970988fc"
      },
      "execution_count": null,
      "outputs": [
        {
          "output_type": "display_data",
          "data": {
            "text/plain": [
              "<Figure size 432x288 with 1 Axes>"
            ],
            "image/png": "[encoded data removed]"
          },
          "metadata": {
            "needs_background": "light"
          }
        }
      ]
    },
    {
      "cell_type": "code",
      "source": [
        "model_med = sm.Logit.from_formula('Acceptance ~ Sex + BCPM + GPA + VR + PS + WS + BS + Apps', df_med)\n",
        "result_med = model_med.fit()\n",
        "print(result_med.summary())"
      ],
      "metadata": {
        "colab": {
          "base_uri": "https://localhost:8080/"
        },
        "id": "9QnuhRnbEfiQ",
        "outputId": "51a10c81-d396-4052-9cd4-15e19cbd5986"
      },
      "execution_count": null,
      "outputs": [
        {
          "output_type": "stream",
          "name": "stdout",
          "text": [
            "Optimization terminated successfully.\n",
            "         Current function value: 0.280736\n",
            "         Iterations 9\n",
            "                           Logit Regression Results                           \n",
            "==============================================================================\n",
            "Dep. Variable:             Acceptance   No. Observations:                   54\n",
            "Model:                          Logit   Df Residuals:                       45\n",
            "Method:                           MLE   Df Model:                            8\n",
            "Date:                Wed, 30 Nov 2022   Pseudo R-squ.:                  0.5913\n",
            "Time:                        01:11:41   Log-Likelihood:                -15.160\n",
            "converged:                       True   LL-Null:                       -37.096\n",
            "Covariance Type:            nonrobust   LLR p-value:                 6.014e-07\n",
            "==============================================================================\n",
            "                 coef    std err          z      P>|z|      [0.025      0.975]\n",
            "------------------------------------------------------------------------------\n",
            "Intercept    -46.6414     15.600     -2.990      0.003     -77.216     -16.067\n",
            "Sex[T.M]      -2.2835      1.429     -1.597      0.110      -5.085       0.518\n",
            "BCPM          -6.1633      6.963     -0.885      0.376     -19.811       7.484\n",
            "GPA           12.3973      8.611      1.440      0.150      -4.479      29.274\n",
            "VR             0.0790      0.311      0.254      0.799      -0.530       0.688\n",
            "PS             1.1673      0.539      2.164      0.030       0.110       2.225\n",
            "WS            -0.7784      0.396     -1.968      0.049      -1.554      -0.003\n",
            "BS             1.9184      0.682      2.814      0.005       0.582       3.255\n",
            "Apps           0.0512      0.147      0.348      0.728      -0.237       0.340\n",
            "==============================================================================\n"
          ]
        }
      ]
    },
    {
      "cell_type": "code",
      "source": [
        "prediction = result_med.predict(df_med)"
      ],
      "metadata": {
        "id": "3cLRQ39YFufP"
      },
      "execution_count": null,
      "outputs": []
    },
    {
      "cell_type": "code",
      "source": [
        "df_med['prediction'] = prediction"
      ],
      "metadata": {
        "id": "4Oyjhgm4F8Y5"
      },
      "execution_count": null,
      "outputs": []
    },
    {
      "cell_type": "code",
      "source": [
        "df_med"
      ],
      "metadata": {
        "id": "68LjFgmFF90t"
      },
      "execution_count": null,
      "outputs": []
    },
    {
      "cell_type": "code",
      "source": [],
      "metadata": {
        "id": "1aXst-htGS_Z"
      },
      "execution_count": null,
      "outputs": []
    }
  ]
}