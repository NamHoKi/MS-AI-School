{
  "nbformat": 4,
  "nbformat_minor": 0,
  "metadata": {
    "colab": {
      "provenance": []
    },
    "kernelspec": {
      "name": "python3",
      "display_name": "Python 3"
    },
    "language_info": {
      "name": "python"
    }
  },
  "cells": [
    {
      "cell_type": "code",
      "source": [
        "# !pip install koreanize-matplotlib\n",
        "import koreanize_matplotlib\n",
        "import warnings\n",
        "warnings.filterwarnings('ignore')"
      ],
      "metadata": {
        "colab": {
          "base_uri": "https://localhost:8080/"
        },
        "id": "FKUIHIsBotex",
        "outputId": "b8da8f15-177d-448c-a7f5-13a95899d7e0"
      },
      "execution_count": null,
      "outputs": [
        {
          "output_type": "stream",
          "name": "stdout",
          "text": [
            "Looking in indexes: https://pypi.org/simple, https://us-python.pkg.dev/colab-wheels/public/simple/\n",
            "Requirement already satisfied: koreanize-matplotlib in /usr/local/lib/python3.7/dist-packages (0.0.1)\n",
            "Requirement already satisfied: matplotlib in /usr/local/lib/python3.7/dist-packages (from koreanize-matplotlib) (3.2.2)\n",
            "Requirement already satisfied: numpy>=1.11 in /usr/local/lib/python3.7/dist-packages (from matplotlib->koreanize-matplotlib) (1.21.6)\n",
            "Requirement already satisfied: kiwisolver>=1.0.1 in /usr/local/lib/python3.7/dist-packages (from matplotlib->koreanize-matplotlib) (1.4.4)\n",
            "Requirement already satisfied: cycler>=0.10 in /usr/local/lib/python3.7/dist-packages (from matplotlib->koreanize-matplotlib) (0.11.0)\n",
            "Requirement already satisfied: python-dateutil>=2.1 in /usr/local/lib/python3.7/dist-packages (from matplotlib->koreanize-matplotlib) (2.8.2)\n",
            "Requirement already satisfied: pyparsing!=2.0.4,!=2.1.2,!=2.1.6,>=2.0.1 in /usr/local/lib/python3.7/dist-packages (from matplotlib->koreanize-matplotlib) (3.0.9)\n",
            "Requirement already satisfied: typing-extensions in /usr/local/lib/python3.7/dist-packages (from kiwisolver>=1.0.1->matplotlib->koreanize-matplotlib) (4.1.1)\n",
            "Requirement already satisfied: six>=1.5 in /usr/local/lib/python3.7/dist-packages (from python-dateutil>=2.1->matplotlib->koreanize-matplotlib) (1.15.0)\n"
          ]
        }
      ]
    },
    {
      "cell_type": "markdown",
      "source": [
        "# 분포\n",
        "## 카테고리분포"
      ],
      "metadata": {
        "id": "f7_-DOlCjJva"
      }
    },
    {
      "cell_type": "markdown",
      "source": [
        "베르누이 동전 0,1인 분포\n",
        "카테고리 확률분포는 주사위 0,1만을 가지는 변수가 아닌 변수들에 대한 확률 분포\n",
        "\n",
        "x = {1,2,3,4,5,6}\n",
        "x = 1 -> {1,0,0,0,0,0}\n",
        "x = 2 -> {0,1,0,0,0,0}\n",
        "x = 3 -> {0,0,1,0,0,0}\n",
        "x = 4 -> {0,0,0,1,0,0}\n",
        "x = 5 -> {0,0,0,0,1,0}\n",
        "x = 6 -> {0,0,0,0,0,1}\n",
        "\n",
        "$$ \\Sigma{x_k} = 1$$\n",
        "카테고리 분포의 모수는 \n",
        "$$μ = ({μ_1}, ⋅ ⋅ ⋅, {\\mu_k}) $$\n",
        "$$0<=\\mu<=1$$\n",
        "$$\\Sigma{\\mu_k} = 1$$\n",
        "\n",
        "카테고리 확률 분포\n",
        "$$Cat({x_1}, {x_2}, ⋅ ⋅ ⋅, {x_k}, {\\mu_1}, ⋅ ⋅ ⋅, {\\mu_k})$$\n",
        "$$Cat(x:\\mu)$$\n",
        "\n",
        "$$ Cat(x:\\mu) = {\\mu_1}\\quad if\\quad x = (1,0,0,⋅ ⋅ ⋅,0) \\quad\n",
        "{\\mu_2}\\quad if\\quad x = (0,1,0,⋅ ⋅ ⋅,0) ⋅ ⋅ ⋅$$\n",
        "\n",
        "$$Cat(x:\\mu) = {\\mu_1^{x_1}}{\\mu_2^{x_3}}⋅⋅⋅{\\mu_k^{x_k}} = \\prod_{k=1}^K \\mu_k^{x_k}$$\n",
        "\n",
        "카테고리 분포의 기댓값\n",
        "$$E[{x_k}] = \\mu_k$$\n",
        "카테고리 분포의 분산\n",
        "$$Var[{x_k}] = \\mu_k(1-\\mu_k)$$"
      ],
      "metadata": {
        "id": "KSmPV6s1jaFd"
      }
    },
    {
      "cell_type": "code",
      "source": [
        "import scipy as sp\n",
        "import scipy.stats\n",
        "mu = [0.1,0.1,0.1,0.1,0.3,0.3]\n",
        "rv = scipy.stats.multinomial(1, mu)"
      ],
      "metadata": {
        "id": "wu0a2pPanfPD"
      },
      "execution_count": null,
      "outputs": []
    },
    {
      "cell_type": "code",
      "source": [
        "import numpy as np\n",
        "import pandas as pd\n",
        "xx = np.arange(1, 7)\n",
        "xx\n"
      ],
      "metadata": {
        "colab": {
          "base_uri": "https://localhost:8080/"
        },
        "id": "zHcuq-6TnxxS",
        "outputId": "c6cb564d-eccf-4cd3-a8c1-c8d80276ed14"
      },
      "execution_count": null,
      "outputs": [
        {
          "output_type": "execute_result",
          "data": {
            "text/plain": [
              "array([1, 2, 3, 4, 5, 6])"
            ]
          },
          "metadata": {},
          "execution_count": 4
        }
      ]
    },
    {
      "cell_type": "code",
      "source": [
        "xx_ohe = pd.get_dummies(xx)\n",
        "xx_ohe"
      ],
      "metadata": {
        "colab": {
          "base_uri": "https://localhost:8080/",
          "height": 237
        },
        "id": "LUnW5KNsoKkt",
        "outputId": "40e3e64e-4e2b-45ac-aee4-c7f9370d1985"
      },
      "execution_count": null,
      "outputs": [
        {
          "output_type": "execute_result",
          "data": {
            "text/plain": [
              "   1  2  3  4  5  6\n",
              "0  1  0  0  0  0  0\n",
              "1  0  1  0  0  0  0\n",
              "2  0  0  1  0  0  0\n",
              "3  0  0  0  1  0  0\n",
              "4  0  0  0  0  1  0\n",
              "5  0  0  0  0  0  1"
            ],
            "text/html": [
              "\n",
              "  <div id=\"df-601ce0bf-b521-4f52-8e15-67f49ab5f365\">\n",
              "    <div class=\"colab-df-container\">\n",
              "      <div>\n",
              "<style scoped>\n",
              "    .dataframe tbody tr th:only-of-type {\n",
              "        vertical-align: middle;\n",
              "    }\n",
              "\n",
              "    .dataframe tbody tr th {\n",
              "        vertical-align: top;\n",
              "    }\n",
              "\n",
              "    .dataframe thead th {\n",
              "        text-align: right;\n",
              "    }\n",
              "</style>\n",
              "<table border=\"1\" class=\"dataframe\">\n",
              "  <thead>\n",
              "    <tr style=\"text-align: right;\">\n",
              "      <th></th>\n",
              "      <th>1</th>\n",
              "      <th>2</th>\n",
              "      <th>3</th>\n",
              "      <th>4</th>\n",
              "      <th>5</th>\n",
              "      <th>6</th>\n",
              "    </tr>\n",
              "  </thead>\n",
              "  <tbody>\n",
              "    <tr>\n",
              "      <th>0</th>\n",
              "      <td>1</td>\n",
              "      <td>0</td>\n",
              "      <td>0</td>\n",
              "      <td>0</td>\n",
              "      <td>0</td>\n",
              "      <td>0</td>\n",
              "    </tr>\n",
              "    <tr>\n",
              "      <th>1</th>\n",
              "      <td>0</td>\n",
              "      <td>1</td>\n",
              "      <td>0</td>\n",
              "      <td>0</td>\n",
              "      <td>0</td>\n",
              "      <td>0</td>\n",
              "    </tr>\n",
              "    <tr>\n",
              "      <th>2</th>\n",
              "      <td>0</td>\n",
              "      <td>0</td>\n",
              "      <td>1</td>\n",
              "      <td>0</td>\n",
              "      <td>0</td>\n",
              "      <td>0</td>\n",
              "    </tr>\n",
              "    <tr>\n",
              "      <th>3</th>\n",
              "      <td>0</td>\n",
              "      <td>0</td>\n",
              "      <td>0</td>\n",
              "      <td>1</td>\n",
              "      <td>0</td>\n",
              "      <td>0</td>\n",
              "    </tr>\n",
              "    <tr>\n",
              "      <th>4</th>\n",
              "      <td>0</td>\n",
              "      <td>0</td>\n",
              "      <td>0</td>\n",
              "      <td>0</td>\n",
              "      <td>1</td>\n",
              "      <td>0</td>\n",
              "    </tr>\n",
              "    <tr>\n",
              "      <th>5</th>\n",
              "      <td>0</td>\n",
              "      <td>0</td>\n",
              "      <td>0</td>\n",
              "      <td>0</td>\n",
              "      <td>0</td>\n",
              "      <td>1</td>\n",
              "    </tr>\n",
              "  </tbody>\n",
              "</table>\n",
              "</div>\n",
              "      <button class=\"colab-df-convert\" onclick=\"convertToInteractive('df-601ce0bf-b521-4f52-8e15-67f49ab5f365')\"\n",
              "              title=\"Convert this dataframe to an interactive table.\"\n",
              "              style=\"display:none;\">\n",
              "        \n",
              "  <svg xmlns=\"http://www.w3.org/2000/svg\" height=\"24px\"viewBox=\"0 0 24 24\"\n",
              "       width=\"24px\">\n",
              "    <path d=\"M0 0h24v24H0V0z\" fill=\"none\"/>\n",
              "    <path d=\"M18.56 5.44l.94 2.06.94-2.06 2.06-.94-2.06-.94-.94-2.06-.94 2.06-2.06.94zm-11 1L8.5 8.5l.94-2.06 2.06-.94-2.06-.94L8.5 2.5l-.94 2.06-2.06.94zm10 10l.94 2.06.94-2.06 2.06-.94-2.06-.94-.94-2.06-.94 2.06-2.06.94z\"/><path d=\"M17.41 7.96l-1.37-1.37c-.4-.4-.92-.59-1.43-.59-.52 0-1.04.2-1.43.59L10.3 9.45l-7.72 7.72c-.78.78-.78 2.05 0 2.83L4 21.41c.39.39.9.59 1.41.59.51 0 1.02-.2 1.41-.59l7.78-7.78 2.81-2.81c.8-.78.8-2.07 0-2.86zM5.41 20L4 18.59l7.72-7.72 1.47 1.35L5.41 20z\"/>\n",
              "  </svg>\n",
              "      </button>\n",
              "      \n",
              "  <style>\n",
              "    .colab-df-container {\n",
              "      display:flex;\n",
              "      flex-wrap:wrap;\n",
              "      gap: 12px;\n",
              "    }\n",
              "\n",
              "    .colab-df-convert {\n",
              "      background-color: #E8F0FE;\n",
              "      border: none;\n",
              "      border-radius: 50%;\n",
              "      cursor: pointer;\n",
              "      display: none;\n",
              "      fill: #1967D2;\n",
              "      height: 32px;\n",
              "      padding: 0 0 0 0;\n",
              "      width: 32px;\n",
              "    }\n",
              "\n",
              "    .colab-df-convert:hover {\n",
              "      background-color: #E2EBFA;\n",
              "      box-shadow: 0px 1px 2px rgba(60, 64, 67, 0.3), 0px 1px 3px 1px rgba(60, 64, 67, 0.15);\n",
              "      fill: #174EA6;\n",
              "    }\n",
              "\n",
              "    [theme=dark] .colab-df-convert {\n",
              "      background-color: #3B4455;\n",
              "      fill: #D2E3FC;\n",
              "    }\n",
              "\n",
              "    [theme=dark] .colab-df-convert:hover {\n",
              "      background-color: #434B5C;\n",
              "      box-shadow: 0px 1px 3px 1px rgba(0, 0, 0, 0.15);\n",
              "      filter: drop-shadow(0px 1px 2px rgba(0, 0, 0, 0.3));\n",
              "      fill: #FFFFFF;\n",
              "    }\n",
              "  </style>\n",
              "\n",
              "      <script>\n",
              "        const buttonEl =\n",
              "          document.querySelector('#df-601ce0bf-b521-4f52-8e15-67f49ab5f365 button.colab-df-convert');\n",
              "        buttonEl.style.display =\n",
              "          google.colab.kernel.accessAllowed ? 'block' : 'none';\n",
              "\n",
              "        async function convertToInteractive(key) {\n",
              "          const element = document.querySelector('#df-601ce0bf-b521-4f52-8e15-67f49ab5f365');\n",
              "          const dataTable =\n",
              "            await google.colab.kernel.invokeFunction('convertToInteractive',\n",
              "                                                     [key], {});\n",
              "          if (!dataTable) return;\n",
              "\n",
              "          const docLinkHtml = 'Like what you see? Visit the ' +\n",
              "            '<a target=\"_blank\" href=https://colab.research.google.com/notebooks/data_table.ipynb>data table notebook</a>'\n",
              "            + ' to learn more about interactive tables.';\n",
              "          element.innerHTML = '';\n",
              "          dataTable['output_type'] = 'display_data';\n",
              "          await google.colab.output.renderOutput(dataTable, element);\n",
              "          const docLink = document.createElement('div');\n",
              "          docLink.innerHTML = docLinkHtml;\n",
              "          element.appendChild(docLink);\n",
              "        }\n",
              "      </script>\n",
              "    </div>\n",
              "  </div>\n",
              "  "
            ]
          },
          "metadata": {},
          "execution_count": 6
        }
      ]
    },
    {
      "cell_type": "code",
      "source": [
        "import matplotlib.pyplot as plt\n",
        "plt.bar(xx, rv.pmf(xx_ohe.values))\n",
        "plt.title('카테고리 분포 확률 질량 함수')\n",
        "plt.show()"
      ],
      "metadata": {
        "colab": {
          "base_uri": "https://localhost:8080/",
          "height": 279
        },
        "id": "DP_QIv61oOpH",
        "outputId": "89fadc09-0f98-4747-f707-b55361c76893"
      },
      "execution_count": null,
      "outputs": [
        {
          "output_type": "display_data",
          "data": {
            "text/plain": [
              "<Figure size 432x288 with 1 Axes>"
            ],
            "image/png": "[encoded data removed]"
          },
          "metadata": {
            "needs_background": "light"
          }
        }
      ]
    },
    {
      "cell_type": "code",
      "source": [
        "np.random.seed(0)\n",
        "X = rv.rvs(100)\n",
        "# X"
      ],
      "metadata": {
        "id": "9EfthbFhozGJ"
      },
      "execution_count": null,
      "outputs": []
    },
    {
      "cell_type": "code",
      "source": [
        "y = X.sum(axis=0) / float(len(X))\n",
        "plt.bar(np.arange(1,7), y)\n",
        "plt.title('카테고리 분포 시뮬레이션 결과')\n",
        "plt.grid()\n",
        "plt.show()"
      ],
      "metadata": {
        "colab": {
          "base_uri": "https://localhost:8080/",
          "height": 279
        },
        "id": "mQ9QFWdrpHvi",
        "outputId": "4cbb77ce-9d5c-4d4d-daf2-2ea86a85f435"
      },
      "execution_count": null,
      "outputs": [
        {
          "output_type": "display_data",
          "data": {
            "text/plain": [
              "<Figure size 432x288 with 1 Axes>"
            ],
            "image/png": "[encoded data removed]"
          },
          "metadata": {
            "needs_background": "light"
          }
        }
      ]
    },
    {
      "cell_type": "code",
      "source": [
        "df = pd.DataFrame({'이론': rv.pmf(xx_ohe.values), '시뮬레이션':y}, index= np.arange(1,7)).stack()"
      ],
      "metadata": {
        "id": "mHiN6F_IpcNm"
      },
      "execution_count": null,
      "outputs": []
    },
    {
      "cell_type": "code",
      "source": [
        "df = df.reset_index()\n",
        "df.columns = ['표본','유형','비율']\n",
        "df.pivot('표본','유형','비율')\n",
        "df"
      ],
      "metadata": {
        "colab": {
          "base_uri": "https://localhost:8080/",
          "height": 426
        },
        "id": "USAHY7qwqLPD",
        "outputId": "dd7bffef-04b9-4677-eeab-1804637d81f2"
      },
      "execution_count": null,
      "outputs": [
        {
          "output_type": "execute_result",
          "data": {
            "text/plain": [
              "    표본     유형    비율\n",
              "0    1     이론  0.10\n",
              "1    1  시뮬레이션  0.08\n",
              "2    2     이론  0.10\n",
              "3    2  시뮬레이션  0.11\n",
              "4    3     이론  0.10\n",
              "5    3  시뮬레이션  0.11\n",
              "6    4     이론  0.10\n",
              "7    4  시뮬레이션  0.11\n",
              "8    5     이론  0.30\n",
              "9    5  시뮬레이션  0.23\n",
              "10   6     이론  0.30\n",
              "11   6  시뮬레이션  0.36"
            ],
            "text/html": [
              "\n",
              "  <div id=\"df-939d558d-5650-4f1a-afa8-656c64307c6e\">\n",
              "    <div class=\"colab-df-container\">\n",
              "      <div>\n",
              "<style scoped>\n",
              "    .dataframe tbody tr th:only-of-type {\n",
              "        vertical-align: middle;\n",
              "    }\n",
              "\n",
              "    .dataframe tbody tr th {\n",
              "        vertical-align: top;\n",
              "    }\n",
              "\n",
              "    .dataframe thead th {\n",
              "        text-align: right;\n",
              "    }\n",
              "</style>\n",
              "<table border=\"1\" class=\"dataframe\">\n",
              "  <thead>\n",
              "    <tr style=\"text-align: right;\">\n",
              "      <th></th>\n",
              "      <th>표본</th>\n",
              "      <th>유형</th>\n",
              "      <th>비율</th>\n",
              "    </tr>\n",
              "  </thead>\n",
              "  <tbody>\n",
              "    <tr>\n",
              "      <th>0</th>\n",
              "      <td>1</td>\n",
              "      <td>이론</td>\n",
              "      <td>0.10</td>\n",
              "    </tr>\n",
              "    <tr>\n",
              "      <th>1</th>\n",
              "      <td>1</td>\n",
              "      <td>시뮬레이션</td>\n",
              "      <td>0.08</td>\n",
              "    </tr>\n",
              "    <tr>\n",
              "      <th>2</th>\n",
              "      <td>2</td>\n",
              "      <td>이론</td>\n",
              "      <td>0.10</td>\n",
              "    </tr>\n",
              "    <tr>\n",
              "      <th>3</th>\n",
              "      <td>2</td>\n",
              "      <td>시뮬레이션</td>\n",
              "      <td>0.11</td>\n",
              "    </tr>\n",
              "    <tr>\n",
              "      <th>4</th>\n",
              "      <td>3</td>\n",
              "      <td>이론</td>\n",
              "      <td>0.10</td>\n",
              "    </tr>\n",
              "    <tr>\n",
              "      <th>5</th>\n",
              "      <td>3</td>\n",
              "      <td>시뮬레이션</td>\n",
              "      <td>0.11</td>\n",
              "    </tr>\n",
              "    <tr>\n",
              "      <th>6</th>\n",
              "      <td>4</td>\n",
              "      <td>이론</td>\n",
              "      <td>0.10</td>\n",
              "    </tr>\n",
              "    <tr>\n",
              "      <th>7</th>\n",
              "      <td>4</td>\n",
              "      <td>시뮬레이션</td>\n",
              "      <td>0.11</td>\n",
              "    </tr>\n",
              "    <tr>\n",
              "      <th>8</th>\n",
              "      <td>5</td>\n",
              "      <td>이론</td>\n",
              "      <td>0.30</td>\n",
              "    </tr>\n",
              "    <tr>\n",
              "      <th>9</th>\n",
              "      <td>5</td>\n",
              "      <td>시뮬레이션</td>\n",
              "      <td>0.23</td>\n",
              "    </tr>\n",
              "    <tr>\n",
              "      <th>10</th>\n",
              "      <td>6</td>\n",
              "      <td>이론</td>\n",
              "      <td>0.30</td>\n",
              "    </tr>\n",
              "    <tr>\n",
              "      <th>11</th>\n",
              "      <td>6</td>\n",
              "      <td>시뮬레이션</td>\n",
              "      <td>0.36</td>\n",
              "    </tr>\n",
              "  </tbody>\n",
              "</table>\n",
              "</div>\n",
              "      <button class=\"colab-df-convert\" onclick=\"convertToInteractive('df-939d558d-5650-4f1a-afa8-656c64307c6e')\"\n",
              "              title=\"Convert this dataframe to an interactive table.\"\n",
              "              style=\"display:none;\">\n",
              "        \n",
              "  <svg xmlns=\"http://www.w3.org/2000/svg\" height=\"24px\"viewBox=\"0 0 24 24\"\n",
              "       width=\"24px\">\n",
              "    <path d=\"M0 0h24v24H0V0z\" fill=\"none\"/>\n",
              "    <path d=\"M18.56 5.44l.94 2.06.94-2.06 2.06-.94-2.06-.94-.94-2.06-.94 2.06-2.06.94zm-11 1L8.5 8.5l.94-2.06 2.06-.94-2.06-.94L8.5 2.5l-.94 2.06-2.06.94zm10 10l.94 2.06.94-2.06 2.06-.94-2.06-.94-.94-2.06-.94 2.06-2.06.94z\"/><path d=\"M17.41 7.96l-1.37-1.37c-.4-.4-.92-.59-1.43-.59-.52 0-1.04.2-1.43.59L10.3 9.45l-7.72 7.72c-.78.78-.78 2.05 0 2.83L4 21.41c.39.39.9.59 1.41.59.51 0 1.02-.2 1.41-.59l7.78-7.78 2.81-2.81c.8-.78.8-2.07 0-2.86zM5.41 20L4 18.59l7.72-7.72 1.47 1.35L5.41 20z\"/>\n",
              "  </svg>\n",
              "      </button>\n",
              "      \n",
              "  <style>\n",
              "    .colab-df-container {\n",
              "      display:flex;\n",
              "      flex-wrap:wrap;\n",
              "      gap: 12px;\n",
              "    }\n",
              "\n",
              "    .colab-df-convert {\n",
              "      background-color: #E8F0FE;\n",
              "      border: none;\n",
              "      border-radius: 50%;\n",
              "      cursor: pointer;\n",
              "      display: none;\n",
              "      fill: #1967D2;\n",
              "      height: 32px;\n",
              "      padding: 0 0 0 0;\n",
              "      width: 32px;\n",
              "    }\n",
              "\n",
              "    .colab-df-convert:hover {\n",
              "      background-color: #E2EBFA;\n",
              "      box-shadow: 0px 1px 2px rgba(60, 64, 67, 0.3), 0px 1px 3px 1px rgba(60, 64, 67, 0.15);\n",
              "      fill: #174EA6;\n",
              "    }\n",
              "\n",
              "    [theme=dark] .colab-df-convert {\n",
              "      background-color: #3B4455;\n",
              "      fill: #D2E3FC;\n",
              "    }\n",
              "\n",
              "    [theme=dark] .colab-df-convert:hover {\n",
              "      background-color: #434B5C;\n",
              "      box-shadow: 0px 1px 3px 1px rgba(0, 0, 0, 0.15);\n",
              "      filter: drop-shadow(0px 1px 2px rgba(0, 0, 0, 0.3));\n",
              "      fill: #FFFFFF;\n",
              "    }\n",
              "  </style>\n",
              "\n",
              "      <script>\n",
              "        const buttonEl =\n",
              "          document.querySelector('#df-939d558d-5650-4f1a-afa8-656c64307c6e button.colab-df-convert');\n",
              "        buttonEl.style.display =\n",
              "          google.colab.kernel.accessAllowed ? 'block' : 'none';\n",
              "\n",
              "        async function convertToInteractive(key) {\n",
              "          const element = document.querySelector('#df-939d558d-5650-4f1a-afa8-656c64307c6e');\n",
              "          const dataTable =\n",
              "            await google.colab.kernel.invokeFunction('convertToInteractive',\n",
              "                                                     [key], {});\n",
              "          if (!dataTable) return;\n",
              "\n",
              "          const docLinkHtml = 'Like what you see? Visit the ' +\n",
              "            '<a target=\"_blank\" href=https://colab.research.google.com/notebooks/data_table.ipynb>data table notebook</a>'\n",
              "            + ' to learn more about interactive tables.';\n",
              "          element.innerHTML = '';\n",
              "          dataTable['output_type'] = 'display_data';\n",
              "          await google.colab.output.renderOutput(dataTable, element);\n",
              "          const docLink = document.createElement('div');\n",
              "          docLink.innerHTML = docLinkHtml;\n",
              "          element.appendChild(docLink);\n",
              "        }\n",
              "      </script>\n",
              "    </div>\n",
              "  </div>\n",
              "  "
            ]
          },
          "metadata": {},
          "execution_count": 22
        }
      ]
    },
    {
      "cell_type": "code",
      "source": [
        "import seaborn as sns\n",
        "sns.barplot(x='표본', y='비율',hue='유형', data=df)\n",
        "plt.title('카테고리 분포 시뮬레이션 결과')\n",
        "plt.grid()\n",
        "plt.show()"
      ],
      "metadata": {
        "colab": {
          "base_uri": "https://localhost:8080/",
          "height": 292
        },
        "id": "ROF_yMDBqcx5",
        "outputId": "54b3c6a4-aa51-4897-d47c-08715cbde600"
      },
      "execution_count": null,
      "outputs": [
        {
          "output_type": "display_data",
          "data": {
            "text/plain": [
              "<Figure size 432x288 with 1 Axes>"
            ],
            "image/png": "[encoded data removed]"
          },
          "metadata": {
            "needs_background": "light"
          }
        }
      ]
    },
    {
      "cell_type": "markdown",
      "source": [
        "#### 실습\n",
        "μ = (0.2, 0.2, 0.15, 0.05, 0.2, 0.1, 0.1)   \n",
        "표본 10개, 1000개 비교"
      ],
      "metadata": {
        "id": "hJkHULburRDF"
      }
    },
    {
      "cell_type": "code",
      "source": [
        "mu = [0.2, 0.2, 0.15, 0.05, 0.2, 0.1, 0.1]\n",
        "rv = scipy.stats.multinomial(1, mu)\n",
        "\n",
        "xx = np.arange(1, 8)\n",
        "xx_ohe = pd.get_dummies(xx)\n",
        "np.random.seed(0)\n",
        "X = rv.rvs(10)\n",
        "\n",
        "y = X.sum(axis=0) / float(len(X))\n",
        "\n",
        "df = pd.DataFrame({'이론':rv.pmf(xx_ohe.values), '시뮬레이션': y},index=np.arange(1,8)).stack()\n",
        "df = df.reset_index()\n",
        "df.columns = ['표본','유형','비율']\n",
        "df.pivot('표본','유형','비율')\n",
        "\n",
        "sns.barplot(x='표본', y='비율', hue='유형', data=df)\n",
        "plt.grid()\n",
        "plt.show()"
      ],
      "metadata": {
        "colab": {
          "base_uri": "https://localhost:8080/",
          "height": 277
        },
        "id": "SjdPv4CJwvQl",
        "outputId": "44721d66-7b3f-4f9b-cffb-7e9f1aa04079"
      },
      "execution_count": null,
      "outputs": [
        {
          "output_type": "display_data",
          "data": {
            "text/plain": [
              "<Figure size 432x288 with 1 Axes>"
            ],
            "image/png": "[encoded data removed]"
          },
          "metadata": {
            "needs_background": "light"
          }
        }
      ]
    },
    {
      "cell_type": "code",
      "source": [
        "mu = [0.2, 0.2, 0.15, 0.05, 0.2, 0.1, 0.1]\n",
        "rv = scipy.stats.multinomial(1, mu)\n",
        "\n",
        "xx = np.arange(1, 8)\n",
        "xx_ohe = pd.get_dummies(xx)\n",
        "np.random.seed(0)\n",
        "X = rv.rvs(1000)\n",
        "\n",
        "y = X.sum(axis=0) / float(len(X))\n",
        "\n",
        "df = pd.DataFrame({'이론':rv.pmf(xx_ohe.values), '시뮬레이션': y},index=np.arange(1,8)).stack()\n",
        "df = df.reset_index()\n",
        "df.columns = ['표본','유형','비율']\n",
        "df.pivot('표본','유형','비율')\n",
        "\n",
        "sns.barplot(x='표본', y='비율', hue='유형', data=df)\n",
        "plt.grid()\n",
        "plt.show()"
      ],
      "metadata": {
        "colab": {
          "base_uri": "https://localhost:8080/",
          "height": 277
        },
        "id": "sztJvszzyKcy",
        "outputId": "8c4259e9-270d-4b61-c82b-3024e88bdd07"
      },
      "execution_count": null,
      "outputs": [
        {
          "output_type": "display_data",
          "data": {
            "text/plain": [
              "<Figure size 432x288 with 1 Axes>"
            ],
            "image/png": "[encoded data removed]"
          },
          "metadata": {
            "needs_background": "light"
          }
        }
      ]
    },
    {
      "cell_type": "markdown",
      "source": [
        "## 다중 분류 문제"
      ],
      "metadata": {
        "id": "J-7-MKZYq6jy"
      }
    },
    {
      "cell_type": "code",
      "source": [
        "from sklearn.datasets import load_iris\n",
        "\n",
        "iris = load_iris()\n",
        "df = pd.DataFrame(iris.data, columns=iris.feature_names)\n",
        "df['품종'] = pd.Series(iris.target, dtype='category')\n",
        "\n",
        "df1 = df[df['petal length (cm)']> 1.5]\n",
        "df2 = df[df['petal length (cm)']<= 1.5]\n",
        "\n",
        "fig, ax = plt.subplots(1,2)\n",
        "sns.countplot(x='품종', data=df1, ax=ax[0]).set_title('꽃잎 폭 1.5cm 초과')\n",
        "sns.countplot(x='품종', data=df2, ax=ax[1]).set_title('꽃잎 폭 1.5cm 이하')\n",
        "plt.tight_layout()\n",
        "plt.show()\n"
      ],
      "metadata": {
        "colab": {
          "base_uri": "https://localhost:8080/",
          "height": 297
        },
        "id": "YX0vOZBcrI4H",
        "outputId": "80599bac-2dd1-4119-9673-3fd2598064f9"
      },
      "execution_count": null,
      "outputs": [
        {
          "output_type": "display_data",
          "data": {
            "text/plain": [
              "<Figure size 432x288 with 2 Axes>"
            ],
            "image/png": "[encoded data removed]"
          },
          "metadata": {
            "needs_background": "light"
          }
        }
      ]
    },
    {
      "cell_type": "markdown",
      "source": [
        "## 다항분포\n",
        "베르누이를 여러번 실험 -> 이항 분포   \n",
        "카테고리 확률 변수가 여러개 -> 다항분포   \n",
        "K개인 카테고리 확률변수의 표본을 N개 있을 때 각각의 카테고리k가 ${x_k}$번 나올 확률 분포\n",
        "\n",
        "- 다항 분포의 확률 질량 함수\n",
        "$$ Mu(x;N,μ) = \\binom N x \\prod_{k=1}^K{\\mu_k}^{x_k}$$\n",
        "\n",
        "- 기대값\n",
        "$$E[{x_k}]=N_{\\mu_k}$$\n",
        "\n",
        "- 분산\n",
        "$$Var[{x_k}] = {N_{μ_k}}(1-{\\mu_k})$$"
      ],
      "metadata": {
        "id": "JXRieZ1gt5bY"
      }
    },
    {
      "cell_type": "code",
      "source": [
        "N = 30\n",
        "mu = [0.1, 0.1, 0.1, 0.1, 0.3, 0.3]\n",
        "rv = scipy.stats.multinomial(N, mu)\n",
        "np.random.seed(0)\n",
        "X = rv.rvs(100)\n",
        "X[:5]"
      ],
      "metadata": {
        "colab": {
          "base_uri": "https://localhost:8080/"
        },
        "id": "TyMBAyEPyxL3",
        "outputId": "f90b7525-266e-4519-b0a9-5b6cc266290b"
      },
      "execution_count": null,
      "outputs": [
        {
          "output_type": "execute_result",
          "data": {
            "text/plain": [
              "array([[ 3,  4,  3,  3,  8,  9],\n",
              "       [ 3,  3,  5,  6,  6,  7],\n",
              "       [ 4,  3,  3,  5,  5, 10],\n",
              "       [ 1,  0,  5,  5, 12,  7],\n",
              "       [ 7,  4,  2,  3,  5,  9]])"
            ]
          },
          "metadata": {},
          "execution_count": 35
        }
      ]
    },
    {
      "cell_type": "code",
      "source": [
        "df = pd.DataFrame(X).stack().reset_index()\n",
        "df.columns = ['N','클래스','표본']\n",
        "\n",
        "sns.violinplot(x='클래스',y='표본', data=df, inner = 'quartile')\n",
        "sns.swarmplot(x='클래스',y='표본', data=df, color=\".3\")\n",
        "plt.title('다항분포 시뮬')\n",
        "plt.show()"
      ],
      "metadata": {
        "colab": {
          "base_uri": "https://localhost:8080/",
          "height": 292
        },
        "id": "sQr2R7dV0T05",
        "outputId": "2fa4206e-6a86-46c7-d1f4-4faec1d60633"
      },
      "execution_count": null,
      "outputs": [
        {
          "output_type": "display_data",
          "data": {
            "text/plain": [
              "<Figure size 432x288 with 1 Axes>"
            ],
            "image/png": "[encoded data removed]"
          },
          "metadata": {
            "needs_background": "light"
          }
        }
      ]
    },
    {
      "cell_type": "code",
      "source": [
        "plt.boxplot(X)\n",
        "plt.title('다항분포 시뮬')\n",
        "plt.grid()\n",
        "plt.show()"
      ],
      "metadata": {
        "colab": {
          "base_uri": "https://localhost:8080/",
          "height": 279
        },
        "id": "mT7AdysM1SDO",
        "outputId": "97a94ba0-75c4-4734-c073-56807b49bfb9"
      },
      "execution_count": null,
      "outputs": [
        {
          "output_type": "display_data",
          "data": {
            "text/plain": [
              "<Figure size 432x288 with 1 Axes>"
            ],
            "image/png": "[encoded data removed]"
          },
          "metadata": {
            "needs_background": "light"
          }
        }
      ]
    },
    {
      "cell_type": "markdown",
      "source": [
        "## 베타 분포\n",
        "데이터의 분포를 표현하는 분포가 아닌 모수값 추정 시 신뢰도를 표현하는데 사용   \n",
        "모수 a,b   \n",
        "표본 공간 0~1 실수\n",
        "확률 밀도함수\n",
        "$$Beta(x;a,b)$$"
      ],
      "metadata": {
        "id": "QnRjZD5N1wX6"
      }
    },
    {
      "cell_type": "code",
      "source": [
        "xx = np.linspace(0,1, 1000)\n",
        "plt.subplot(221)\n",
        "plt.fill_between(xx, scipy.stats.beta(1,1).pdf(xx))\n",
        "plt.ylim(0,6)\n",
        "plt.title('(A) a = 1, b= 1')\n",
        "\n",
        "plt.subplot(222)\n",
        "plt.fill_between(xx, scipy.stats.beta(4,2).pdf(xx))\n",
        "plt.ylim(0,6)\n",
        "plt.title('(B) a = 4, b= 2')\n",
        "\n",
        "plt.subplot(223)\n",
        "plt.fill_between(xx, scipy.stats.beta(8,4).pdf(xx))\n",
        "plt.ylim(0,6)\n",
        "plt.title('(C) a = 8, b= 4')\n",
        "\n",
        "plt.subplot(224)\n",
        "plt.fill_between(xx, scipy.stats.beta(30,12).pdf(xx))\n",
        "plt.ylim(0,6)\n",
        "plt.title('(D) a = 30, b= 12')\n",
        "plt.tight_layout()\n",
        "plt.show()"
      ],
      "metadata": {
        "colab": {
          "base_uri": "https://localhost:8080/",
          "height": 297
        },
        "id": "CMN52RsE3Ab9",
        "outputId": "b5eb2faf-936c-48a8-c71e-c668441f2887"
      },
      "execution_count": null,
      "outputs": [
        {
          "output_type": "display_data",
          "data": {
            "text/plain": [
              "<Figure size 432x288 with 4 Axes>"
            ],
            "image/png": "[encoded data removed]"
          },
          "metadata": {
            "needs_background": "light"
          }
        }
      ]
    },
    {
      "cell_type": "markdown",
      "source": [
        "- 기댓값\n",
        "$$E[x] = \\frac{a}{a+b}$$\n",
        "\n",
        "- 최빈값\n",
        "$$mode = \\frac{a-1}{a+b-2}$$\n",
        "\n",
        "- 분산\n",
        "$$Var[x] = \\frac{ab}{{(a+b)}^2(a+b+1)}$$"
      ],
      "metadata": {
        "id": "tx9taw2L37o4"
      }
    },
    {
      "cell_type": "markdown",
      "source": [
        "## 감마분포\n",
        "베타분포와 달리 0 ~ 무한의 표본을 사용\n",
        "\n",
        "$$Gam(x;a,b)$$"
      ],
      "metadata": {
        "id": "3NytlXVK4wqA"
      }
    },
    {
      "cell_type": "code",
      "source": [
        "xx = np.linspace(0,16,100)\n",
        "plt.subplot(221)\n",
        "plt.fill_between(xx, scipy.stats.gamma(8).pdf(xx))\n",
        "plt.ylim(0,0.4)\n",
        "plt.grid()\n",
        "plt.title(\"(A) a=9, b=1, 최빈값=7\")\n",
        "\n",
        "plt.subplot(222)\n",
        "plt.fill_between(xx, scipy.stats.gamma(6).pdf(xx))\n",
        "plt.ylim(0,0.4)\n",
        "plt.grid()\n",
        "plt.title(\"(B) a=6, b=1, 최빈값=5\")\n",
        "\n",
        "plt.subplot(223)\n",
        "plt.fill_between(xx, scipy.stats.gamma(3).pdf(xx))\n",
        "plt.ylim(0,0.4)\n",
        "plt.grid()\n",
        "plt.title(\"(C) a=3, b=1, 최빈값=2\")\n",
        "\n",
        "plt.subplot(224)\n",
        "plt.fill_between(xx, scipy.stats.gamma(2).pdf(xx))\n",
        "plt.ylim(0,0.4)\n",
        "plt.title(\"(D) a=2, b=1, 최빈값=1\")\n",
        "plt.tight_layout()\n",
        "plt.grid()\n",
        "plt.show()"
      ],
      "metadata": {
        "colab": {
          "base_uri": "https://localhost:8080/",
          "height": 297
        },
        "id": "77-z5x5O5onW",
        "outputId": "7ecc0260-a506-4cd5-abc9-3af5a0b638cb"
      },
      "execution_count": null,
      "outputs": [
        {
          "output_type": "display_data",
          "data": {
            "text/plain": [
              "<Figure size 432x288 with 4 Axes>"
            ],
            "image/png": "[encoded data removed]"
          },
          "metadata": {
            "needs_background": "light"
          }
        }
      ]
    },
    {
      "cell_type": "markdown",
      "source": [
        "- 기대값\n",
        "$$E[X]=\\frac{a}{b}$$\n",
        "- 최빈값\n",
        "$$mode=\\frac{a-1}{b}$$\n",
        "- 분산\n",
        "$$Var[X]=\\frac{a}{b^2}$$"
      ],
      "metadata": {
        "id": "NPkFdbH66m3l"
      }
    },
    {
      "cell_type": "markdown",
      "source": [
        "## 디리클레 분포\n",
        "베타분포의 확장\n",
        "베타분포는 0 ~ 1을가지는 단일 확률변수에 대한 분포   \n",
        "디리클레분포는 0 ~ 1을가지는 다변수 확률 변수   \n",
        "모수 추정시 베이지안 모형에 사용   \n",
        "밀도 함수\n",
        "$$Dir(x;a)$$\n",
        "조건\n",
        "$$0<={x_i}<=1, \\Sigma_{i=1}^K{x_i}=1$$\n",
        "\n",
        "베타분포는 K=2인 디리클레 분포"
      ],
      "metadata": {
        "id": "3T-ALntZ93ns"
      }
    },
    {
      "cell_type": "code",
      "source": [],
      "metadata": {
        "id": "-Y2wgbyX-7IM"
      },
      "execution_count": null,
      "outputs": []
    }
  ]
}