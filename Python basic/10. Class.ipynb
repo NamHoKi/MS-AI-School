{
 "cells": [
  {
   "cell_type": "code",
   "execution_count": 1,
   "id": "b4a11694",
   "metadata": {},
   "outputs": [],
   "source": [
    "class MyClass:\n",
    "    pass"
   ]
  },
  {
   "cell_type": "code",
   "execution_count": 2,
   "id": "830a1a13",
   "metadata": {},
   "outputs": [
    {
     "data": {
      "text/plain": [
       "__main__.MyClass"
      ]
     },
     "execution_count": 2,
     "metadata": {},
     "output_type": "execute_result"
    }
   ],
   "source": [
    "MyClass"
   ]
  },
  {
   "cell_type": "code",
   "execution_count": 3,
   "id": "9b4359d5",
   "metadata": {},
   "outputs": [
    {
     "data": {
      "text/plain": [
       "type"
      ]
     },
     "execution_count": 3,
     "metadata": {},
     "output_type": "execute_result"
    }
   ],
   "source": [
    "type(MyClass)"
   ]
  },
  {
   "cell_type": "code",
   "execution_count": 5,
   "id": "ff6fd107",
   "metadata": {},
   "outputs": [],
   "source": [
    "class Person:\n",
    "    Name = 'Default Name'        # Perperty\n",
    "    \n",
    "    def Print(self):\n",
    "        print('My name is {0}'.format(self.Name))\n",
    "        "
   ]
  },
  {
   "cell_type": "code",
   "execution_count": 6,
   "id": "40644a19",
   "metadata": {},
   "outputs": [],
   "source": [
    "son = Person()"
   ]
  },
  {
   "cell_type": "code",
   "execution_count": 9,
   "id": "148368bc",
   "metadata": {},
   "outputs": [
    {
     "name": "stdout",
     "output_type": "stream",
     "text": [
      "My name is 손흥민\n"
     ]
    }
   ],
   "source": [
    "son.Name = '손흥민'\n",
    "son.Print()"
   ]
  },
  {
   "cell_type": "code",
   "execution_count": 11,
   "id": "37e964ed",
   "metadata": {},
   "outputs": [],
   "source": [
    "# instance\n",
    "\n",
    "Person.title = 'New title'"
   ]
  },
  {
   "cell_type": "code",
   "execution_count": 12,
   "id": "d4c933bf",
   "metadata": {},
   "outputs": [
    {
     "data": {
      "text/plain": [
       "'New title'"
      ]
     },
     "execution_count": 12,
     "metadata": {},
     "output_type": "execute_result"
    }
   ],
   "source": [
    "son.title"
   ]
  },
  {
   "cell_type": "code",
   "execution_count": 13,
   "id": "c41a280a",
   "metadata": {},
   "outputs": [],
   "source": [
    "son.age = 20"
   ]
  },
  {
   "cell_type": "code",
   "execution_count": 14,
   "id": "14a0b131",
   "metadata": {},
   "outputs": [
    {
     "data": {
      "text/plain": [
       "20"
      ]
     },
     "execution_count": 14,
     "metadata": {},
     "output_type": "execute_result"
    }
   ],
   "source": [
    "son.age"
   ]
  },
  {
   "cell_type": "code",
   "execution_count": 16,
   "id": "3da23b9d",
   "metadata": {},
   "outputs": [
    {
     "ename": "AttributeError",
     "evalue": "type object 'Person' has no attribute 'age'",
     "output_type": "error",
     "traceback": [
      "\u001b[1;31m---------------------------------------------------------------------------\u001b[0m",
      "\u001b[1;31mAttributeError\u001b[0m                            Traceback (most recent call last)",
      "Input \u001b[1;32mIn [16]\u001b[0m, in \u001b[0;36m<cell line: 1>\u001b[1;34m()\u001b[0m\n\u001b[1;32m----> 1\u001b[0m \u001b[43mPerson\u001b[49m\u001b[38;5;241;43m.\u001b[39;49m\u001b[43mage\u001b[49m\n",
      "\u001b[1;31mAttributeError\u001b[0m: type object 'Person' has no attribute 'age'"
     ]
    }
   ],
   "source": [
    "Person.age # instance에 추가한 속성은 전체에 반영이 안됨"
   ]
  },
  {
   "cell_type": "code",
   "execution_count": 19,
   "id": "2a4e455d",
   "metadata": {},
   "outputs": [],
   "source": [
    "# 클래스의 상속\n",
    "\n",
    "class Person:\n",
    "    pass"
   ]
  },
  {
   "cell_type": "code",
   "execution_count": 20,
   "id": "b907e7d7",
   "metadata": {},
   "outputs": [],
   "source": [
    "class Bird:\n",
    "    pass"
   ]
  },
  {
   "cell_type": "code",
   "execution_count": 21,
   "id": "1372b515",
   "metadata": {},
   "outputs": [],
   "source": [
    "class Student(Person):\n",
    "    pass"
   ]
  },
  {
   "cell_type": "code",
   "execution_count": 22,
   "id": "7313cbda",
   "metadata": {},
   "outputs": [],
   "source": [
    "p = Person()\n",
    "s = Student()"
   ]
  },
  {
   "cell_type": "code",
   "execution_count": 23,
   "id": "f1225efa",
   "metadata": {},
   "outputs": [
    {
     "data": {
      "text/plain": [
       "True"
      ]
     },
     "execution_count": 23,
     "metadata": {},
     "output_type": "execute_result"
    }
   ],
   "source": [
    "isinstance(p, Person) # p가 Person에서 나온 instance인가 ?"
   ]
  },
  {
   "cell_type": "code",
   "execution_count": 24,
   "id": "c6e3dd27",
   "metadata": {},
   "outputs": [
    {
     "data": {
      "text/plain": [
       "True"
      ]
     },
     "execution_count": 24,
     "metadata": {},
     "output_type": "execute_result"
    }
   ],
   "source": [
    "isinstance(s, Person) # 상속된 instance"
   ]
  },
  {
   "cell_type": "code",
   "execution_count": 25,
   "id": "7c3d24f4",
   "metadata": {},
   "outputs": [
    {
     "data": {
      "text/plain": [
       "True"
      ]
     },
     "execution_count": 25,
     "metadata": {},
     "output_type": "execute_result"
    }
   ],
   "source": [
    "isinstance(s, object)"
   ]
  },
  {
   "cell_type": "code",
   "execution_count": 26,
   "id": "87adf01d",
   "metadata": {},
   "outputs": [
    {
     "data": {
      "text/plain": [
       "False"
      ]
     },
     "execution_count": 26,
     "metadata": {},
     "output_type": "execute_result"
    }
   ],
   "source": [
    "isinstance(p, Bird)"
   ]
  },
  {
   "cell_type": "code",
   "execution_count": 31,
   "id": "04aeced3",
   "metadata": {},
   "outputs": [],
   "source": [
    "# 생성자, 소멸자\n",
    "\n",
    "class MyClass:\n",
    "    #생성자\n",
    "    def __init__(self, value):\n",
    "        self.Value = value\n",
    "        print('Class is created! Value = ',value)\n",
    "        \n",
    "    def __del__(self):\n",
    "        print('Class is deleted')\n",
    "        "
   ]
  },
  {
   "cell_type": "code",
   "execution_count": 40,
   "id": "4e7e7d61",
   "metadata": {},
   "outputs": [
    {
     "name": "stdout",
     "output_type": "stream",
     "text": [
      "Class is created! Value =  10\n"
     ]
    }
   ],
   "source": [
    "m = MyClass(10)"
   ]
  },
  {
   "cell_type": "code",
   "execution_count": 39,
   "id": "6ffc37d5",
   "metadata": {},
   "outputs": [
    {
     "name": "stdout",
     "output_type": "stream",
     "text": [
      "Class is deleted\n"
     ]
    }
   ],
   "source": [
    "del m"
   ]
  },
  {
   "cell_type": "code",
   "execution_count": 44,
   "id": "79d06d40",
   "metadata": {},
   "outputs": [],
   "source": [
    "# 정적 메소드\n",
    "\n",
    "class CounterManager:\n",
    "    insCount = 0\n",
    "    \n",
    "    def __init__(self):\n",
    "        CounterManager.insCount += 1\n",
    "        \n",
    "    def printInstanceCount():\n",
    "        print('Instance Count:', CounterManager.insCount)"
   ]
  },
  {
   "cell_type": "code",
   "execution_count": 45,
   "id": "be9dc25b",
   "metadata": {},
   "outputs": [],
   "source": [
    "a, b, c = CounterManager(), CounterManager(), CounterManager()"
   ]
  },
  {
   "cell_type": "code",
   "execution_count": 47,
   "id": "33213de7",
   "metadata": {},
   "outputs": [
    {
     "name": "stdout",
     "output_type": "stream",
     "text": [
      "Instance Count: 3\n"
     ]
    }
   ],
   "source": [
    "CounterManager.printInstanceCount()"
   ]
  },
  {
   "cell_type": "code",
   "execution_count": 48,
   "id": "d82d6b4d",
   "metadata": {},
   "outputs": [],
   "source": [
    "# 상속의 확장\n",
    "\n",
    "class Person:\n",
    "    def __init__(self, name, phone):\n",
    "        self.Name = name\n",
    "        self.Phone = phone\n",
    "        \n",
    "    def PrintInfo(self):\n",
    "        print('Info(Name: {0}, Phone : {1})'.format(self.Name, self.Phone))\n",
    "        \n",
    "    def PrintPersonData(self):\n",
    "        print('Person(Name: {0}, Phone : {1})'.format(self.Name, self.Phone))"
   ]
  },
  {
   "cell_type": "code",
   "execution_count": 59,
   "id": "f2e03bf3",
   "metadata": {},
   "outputs": [],
   "source": [
    "class Student(Person):\n",
    "    \n",
    "    def __init__(self, name, phone, subject, studentID):\n",
    "        self.Name = name\n",
    "        self.Phone = phone\n",
    "        self.Susbject = subject\n",
    "        self.StudentID = studentID\n",
    "        \n",
    "    def PrintStudentID(self):\n",
    "        print(self.StudentID)"
   ]
  },
  {
   "cell_type": "code",
   "execution_count": 60,
   "id": "ee24564a",
   "metadata": {},
   "outputs": [],
   "source": [
    "p = Person('IU', '010-0000-0000')\n",
    "s = Student('MinA', '010-111-1111', 'Computer Science', '00000')"
   ]
  },
  {
   "cell_type": "code",
   "execution_count": 61,
   "id": "f3e1c8c5",
   "metadata": {},
   "outputs": [
    {
     "data": {
      "text/plain": [
       "{'Name': 'IU', 'Phone': '010-0000-0000'}"
      ]
     },
     "execution_count": 61,
     "metadata": {},
     "output_type": "execute_result"
    }
   ],
   "source": [
    "p.__dict__"
   ]
  },
  {
   "cell_type": "code",
   "execution_count": 62,
   "id": "662dfaa8",
   "metadata": {},
   "outputs": [
    {
     "data": {
      "text/plain": [
       "{'Name': 'MinA',\n",
       " 'Phone': '010-111-1111',\n",
       " 'Susbject': 'Computer Science',\n",
       " 'StudentID': '00000'}"
      ]
     },
     "execution_count": 62,
     "metadata": {},
     "output_type": "execute_result"
    }
   ],
   "source": [
    "s.__dict__"
   ]
  },
  {
   "cell_type": "code",
   "execution_count": 57,
   "id": "49ba51c5",
   "metadata": {},
   "outputs": [
    {
     "name": "stdout",
     "output_type": "stream",
     "text": [
      "Info(Name: IU, Phone : 010-0000-0000)\n"
     ]
    }
   ],
   "source": [
    "p.PrintInfo()"
   ]
  },
  {
   "cell_type": "code",
   "execution_count": 63,
   "id": "2727605e",
   "metadata": {},
   "outputs": [
    {
     "name": "stdout",
     "output_type": "stream",
     "text": [
      "Info(Name: MinA, Phone : 010-111-1111)\n"
     ]
    }
   ],
   "source": [
    "s.PrintInfo()"
   ]
  },
  {
   "cell_type": "code",
   "execution_count": 64,
   "id": "eeb2a90b",
   "metadata": {},
   "outputs": [
    {
     "name": "stdout",
     "output_type": "stream",
     "text": [
      "00000\n"
     ]
    }
   ],
   "source": [
    "s.PrintStudentID()"
   ]
  },
  {
   "cell_type": "code",
   "execution_count": 65,
   "id": "ff6daa6c",
   "metadata": {},
   "outputs": [
    {
     "data": {
      "text/plain": [
       "True"
      ]
     },
     "execution_count": 65,
     "metadata": {},
     "output_type": "execute_result"
    }
   ],
   "source": [
    "# 상속 관계의 확인\n",
    "\n",
    "issubclass(Student, Person)"
   ]
  },
  {
   "cell_type": "code",
   "execution_count": 66,
   "id": "8632a806",
   "metadata": {},
   "outputs": [
    {
     "data": {
      "text/plain": [
       "False"
      ]
     },
     "execution_count": 66,
     "metadata": {},
     "output_type": "execute_result"
    }
   ],
   "source": [
    "issubclass(Person, Student)"
   ]
  },
  {
   "cell_type": "code",
   "execution_count": 79,
   "id": "c4f867bc",
   "metadata": {},
   "outputs": [],
   "source": [
    "# 다중 상속\n",
    "\n",
    "class Tiger:\n",
    "    def Jump(self):\n",
    "        print('Tiger Jump!!')"
   ]
  },
  {
   "cell_type": "code",
   "execution_count": 83,
   "id": "f97b584f",
   "metadata": {},
   "outputs": [],
   "source": [
    "class Lion:\n",
    "    def Bite(self):\n",
    "        print('Lion bite')"
   ]
  },
  {
   "cell_type": "code",
   "execution_count": 84,
   "id": "8fdc80d4",
   "metadata": {},
   "outputs": [],
   "source": [
    "class Liger(Tiger, Lion):\n",
    "    def Play(self):\n",
    "        print('Liger Player')"
   ]
  },
  {
   "cell_type": "code",
   "execution_count": 85,
   "id": "c5134496",
   "metadata": {},
   "outputs": [],
   "source": [
    "l = Liger()"
   ]
  },
  {
   "cell_type": "code",
   "execution_count": 86,
   "id": "0d02683e",
   "metadata": {},
   "outputs": [
    {
     "name": "stdout",
     "output_type": "stream",
     "text": [
      "Lion bite\n"
     ]
    }
   ],
   "source": [
    "l.Bite()"
   ]
  },
  {
   "cell_type": "code",
   "execution_count": 87,
   "id": "fd188066",
   "metadata": {},
   "outputs": [
    {
     "name": "stdout",
     "output_type": "stream",
     "text": [
      "Liger Player\n"
     ]
    }
   ],
   "source": [
    "l.Play()"
   ]
  },
  {
   "cell_type": "code",
   "execution_count": 88,
   "id": "3a59072d",
   "metadata": {
    "scrolled": true
   },
   "outputs": [
    {
     "name": "stdout",
     "output_type": "stream",
     "text": [
      "Tiger Jump!!\n"
     ]
    }
   ],
   "source": [
    "l.Jump()"
   ]
  }
 ],
 "metadata": {
  "kernelspec": {
   "display_name": "Python 3 (ipykernel)",
   "language": "python",
   "name": "python3"
  },
  "language_info": {
   "codemirror_mode": {
    "name": "ipython",
    "version": 3
   },
   "file_extension": ".py",
   "mimetype": "text/x-python",
   "name": "python",
   "nbconvert_exporter": "python",
   "pygments_lexer": "ipython3",
   "version": "3.9.12"
  }
 },
 "nbformat": 4,
 "nbformat_minor": 5
}
