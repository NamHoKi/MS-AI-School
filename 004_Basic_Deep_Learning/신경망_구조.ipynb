{
  "nbformat": 4,
  "nbformat_minor": 0,
  "metadata": {
    "colab": {
      "provenance": []
    },
    "kernelspec": {
      "name": "python3",
      "display_name": "Python 3"
    },
    "language_info": {
      "name": "python"
    }
  },
  "cells": [
    {
      "cell_type": "code",
      "execution_count": null,
      "metadata": {
        "id": "W2x8pkYXSL-8"
      },
      "outputs": [],
      "source": [
        "import numpy as np\n",
        "import matplotlib.pyplot as plt\n",
        "\n",
        "# AND 게이트\n",
        "def AND(a, b):\n",
        "  input = np.array([a,b])\n",
        "\n",
        "  #가중치 설정\n",
        "  weights = np.array([0.4,0.4])\n",
        "  bias = -0.6\n",
        "\n",
        "  #출력값\n",
        "  value = np.sum(input * weights) + bias\n",
        "\n",
        "  #반환값\n",
        "  if value <= 0:\n",
        "    return 0\n",
        "  else:\n",
        "    return 1"
      ]
    },
    {
      "cell_type": "code",
      "source": [
        "print(AND(0,0))\n",
        "print(AND(0,1))\n",
        "print(AND(1,0))\n",
        "print(AND(1,1))"
      ],
      "metadata": {
        "colab": {
          "base_uri": "https://localhost:8080/"
        },
        "id": "B1qRGXJgUDSi",
        "outputId": "300cfbe7-6723-4974-bca9-c87b5af00af8"
      },
      "execution_count": null,
      "outputs": [
        {
          "output_type": "stream",
          "name": "stdout",
          "text": [
            "0\n",
            "0\n",
            "0\n",
            "1\n"
          ]
        }
      ]
    },
    {
      "cell_type": "code",
      "source": [
        "x1 = np.arange(-2,2, 0.01)\n",
        "x2 = np.arange(-2,2, 0.01)\n",
        "bias = -0.6\n",
        "\n",
        "y = (-0.4 * x1 - bias) / 0.4\n",
        "\n",
        "plt.plot(x1, y, 'r--')\n",
        "plt.scatter(0,0, color='orange', marker='o',s=150)\n",
        "plt.scatter(0,1, color='orange', marker='o',s=150)\n",
        "plt.scatter(1,0, color='orange', marker='o',s=150)\n",
        "plt.scatter(1,1, color='black', marker='^',s=150)\n",
        "plt.xlim(-0.5,1.5)\n",
        "plt.ylim(-0.5,1.5)\n",
        "plt.grid()"
      ],
      "metadata": {
        "colab": {
          "base_uri": "https://localhost:8080/",
          "height": 269
        },
        "id": "GIPCQJ5aUiBg",
        "outputId": "d9124384-0da6-4c1a-9422-137f6ae0c02e"
      },
      "execution_count": null,
      "outputs": [
        {
          "output_type": "display_data",
          "data": {
            "text/plain": [
              "<Figure size 432x288 with 1 Axes>"
            ],
            "image/png": "[encoded data removed]"
          },
          "metadata": {
            "needs_background": "light"
          }
        }
      ]
    },
    {
      "cell_type": "code",
      "source": [
        "# OR 게이트\n",
        "def OR(a, b):\n",
        "  input = np.array([a,b])\n",
        "\n",
        "  #가중치 설정\n",
        "  weights = np.array([0.4,0.4])\n",
        "  bias = -0.3\n",
        "\n",
        "  #출력값\n",
        "  value = np.sum(input * weights) + bias\n",
        "\n",
        "  #반환값\n",
        "  if value <= 0:\n",
        "    return 0\n",
        "  else:\n",
        "    return 1"
      ],
      "metadata": {
        "id": "baVgefr-VhJ3"
      },
      "execution_count": null,
      "outputs": []
    },
    {
      "cell_type": "code",
      "source": [
        "print(OR(0,0))\n",
        "print(OR(0,1))\n",
        "print(OR(1,0))\n",
        "print(OR(1,1))"
      ],
      "metadata": {
        "colab": {
          "base_uri": "https://localhost:8080/"
        },
        "id": "WW6_qYzsW58G",
        "outputId": "6fd4e0a4-d8bd-44b7-d756-1f550d4d3ffb"
      },
      "execution_count": null,
      "outputs": [
        {
          "output_type": "stream",
          "name": "stdout",
          "text": [
            "0\n",
            "1\n",
            "1\n",
            "1\n"
          ]
        }
      ]
    },
    {
      "cell_type": "code",
      "source": [
        "# NAND 게이트\n",
        "def NAND(a, b):\n",
        "  input = np.array([a,b])\n",
        "\n",
        "  #가중치 설정\n",
        "  weights = np.array([-0.6,-0.6])\n",
        "  bias = 0.7\n",
        "\n",
        "  #출력값\n",
        "  value = np.sum(input * weights) + bias\n",
        "\n",
        "  #반환값\n",
        "  if value <= 0:\n",
        "    return 0\n",
        "  else:\n",
        "    return 1"
      ],
      "metadata": {
        "id": "p94k3QoMXIE8"
      },
      "execution_count": null,
      "outputs": []
    },
    {
      "cell_type": "code",
      "source": [
        "print(NAND(0,0))\n",
        "print(NAND(0,1))\n",
        "print(NAND(1,0))\n",
        "print(NAND(1,1))"
      ],
      "metadata": {
        "colab": {
          "base_uri": "https://localhost:8080/"
        },
        "id": "map_V_GjXzMa",
        "outputId": "4aa95581-6f38-4c29-f931-cfbba6d684cd"
      },
      "execution_count": null,
      "outputs": [
        {
          "output_type": "stream",
          "name": "stdout",
          "text": [
            "1\n",
            "1\n",
            "1\n",
            "0\n"
          ]
        }
      ]
    },
    {
      "cell_type": "code",
      "source": [
        "def XOR(x1, x2):\n",
        "  s1 = NAND(x1, x2)\n",
        "  s2 = OR(x1, x2)\n",
        "  y = AND(s1, s2)\n",
        "\n",
        "  return y"
      ],
      "metadata": {
        "id": "Z5fmj-9kX6Ba"
      },
      "execution_count": null,
      "outputs": []
    },
    {
      "cell_type": "code",
      "source": [
        "print(XOR(0,0))\n",
        "print(XOR(0,1))\n",
        "print(XOR(1,0))\n",
        "print(XOR(1,1))"
      ],
      "metadata": {
        "colab": {
          "base_uri": "https://localhost:8080/"
        },
        "id": "HvA1auy6cV80",
        "outputId": "52328fd1-b07b-429d-c84b-bfb703131f48"
      },
      "execution_count": null,
      "outputs": [
        {
          "output_type": "stream",
          "name": "stdout",
          "text": [
            "0\n",
            "1\n",
            "1\n",
            "0\n"
          ]
        }
      ]
    },
    {
      "cell_type": "code",
      "source": [
        "#Activation Function\n",
        "\n",
        "#Steop Function (계단 함수)\n",
        "def step_function(x):\n",
        "  if x > 0:\n",
        "    return 1\n",
        "  else:\n",
        "    return 0"
      ],
      "metadata": {
        "id": "d96q9p0ycjbR"
      },
      "execution_count": null,
      "outputs": []
    },
    {
      "cell_type": "code",
      "source": [
        "def step_function_for_numpy(x):\n",
        "  y = x > 0\n",
        "  value  = y.astype(np.int)\n",
        "\n",
        "  return value"
      ],
      "metadata": {
        "id": "uLgi0-MEi8C5"
      },
      "execution_count": null,
      "outputs": []
    },
    {
      "cell_type": "code",
      "source": [
        "print(step_function(-3))\n",
        "print(step_function(5))"
      ],
      "metadata": {
        "colab": {
          "base_uri": "https://localhost:8080/"
        },
        "id": "fPXybZTAffgm",
        "outputId": "5457b1fc-3d76-4a96-dfd6-0694b40bd041"
      },
      "execution_count": null,
      "outputs": [
        {
          "output_type": "stream",
          "name": "stdout",
          "text": [
            "0\n",
            "1\n"
          ]
        }
      ]
    },
    {
      "cell_type": "code",
      "source": [
        "# 시그모이드 함수 \n",
        "\n",
        "def sigmoid(x):\n",
        "  value = 1 / (1 + np.exp(-x))\n",
        "  return value\n",
        "\n",
        "print(sigmoid(3))\n",
        "print(sigmoid(-3))"
      ],
      "metadata": {
        "colab": {
          "base_uri": "https://localhost:8080/"
        },
        "id": "WTx0S6-kfwHr",
        "outputId": "0144e13f-1529-4933-c1a7-4f9a932d18af"
      },
      "execution_count": null,
      "outputs": [
        {
          "output_type": "stream",
          "name": "stdout",
          "text": [
            "0.9525741268224334\n",
            "0.04742587317756678\n"
          ]
        }
      ]
    },
    {
      "cell_type": "code",
      "source": [
        "plt.grid()\n",
        "x = np.arange(-5,5,0.01)\n",
        "y1 = sigmoid(x)\n",
        "y2 = step_function_for_numpy(x)\n",
        "\n",
        "plt.plot(x, y1,'r-')\n",
        "plt.plot(x, y2, 'b--')"
      ],
      "metadata": {
        "colab": {
          "base_uri": "https://localhost:8080/",
          "height": 356
        },
        "id": "i8cVepTihfCQ",
        "outputId": "fb88d8aa-7294-47dc-a571-8999b533aedd"
      },
      "execution_count": null,
      "outputs": [
        {
          "output_type": "stream",
          "name": "stderr",
          "text": [
            "/usr/local/lib/python3.7/dist-packages/ipykernel_launcher.py:3: DeprecationWarning: `np.int` is a deprecated alias for the builtin `int`. To silence this warning, use `int` by itself. Doing this will not modify any behavior and is safe. When replacing `np.int`, you may wish to use e.g. `np.int64` or `np.int32` to specify the precision. If you wish to review your current use, check the release note link for additional information.\n",
            "Deprecated in NumPy 1.20; for more details and guidance: https://numpy.org/devdocs/release/1.20.0-notes.html#deprecations\n",
            "  This is separate from the ipykernel package so we can avoid doing imports until\n"
          ]
        },
        {
          "output_type": "execute_result",
          "data": {
            "text/plain": [
              "[<matplotlib.lines.Line2D at 0x7f7544f2ee90>]"
            ]
          },
          "metadata": {},
          "execution_count": 36
        },
        {
          "output_type": "display_data",
          "data": {
            "text/plain": [
              "<Figure size 432x288 with 1 Axes>"
            ],
            "image/png": "[encoded data removed]"
          },
          "metadata": {
            "needs_background": "light"
          }
        }
      ]
    },
    {
      "cell_type": "code",
      "source": [
        "# ReLu(x)\n",
        "\n",
        "def ReLu(x):\n",
        "  if x > 0:\n",
        "    return X\n",
        "  else:\n",
        "    return 0"
      ],
      "metadata": {
        "id": "fzEOKHkCiyJF"
      },
      "execution_count": null,
      "outputs": []
    },
    {
      "cell_type": "code",
      "source": [
        "# Identity Function (항등 함수)\n",
        "def identify_function(x):\n",
        "  return x"
      ],
      "metadata": {
        "id": "NoRlSm_olRbX"
      },
      "execution_count": null,
      "outputs": []
    },
    {
      "cell_type": "code",
      "source": [
        "# Softmax(a)\n",
        "def Softmax(a):\n",
        "  exp_a = np.exp(a)\n",
        "  sum_exp_a = np.sum(exp_a)\n",
        "  y = exp_a / sum_exp_a\n",
        "\n",
        "  return y"
      ],
      "metadata": {
        "id": "nyrVtL1Ulc_F"
      },
      "execution_count": null,
      "outputs": []
    },
    {
      "cell_type": "code",
      "source": [
        "a = np.array([0.3,0.2,3.0,-1.2])\n",
        "print(Softmax(a))\n",
        "print(np.sum(Softmax(a)))"
      ],
      "metadata": {
        "colab": {
          "base_uri": "https://localhost:8080/"
        },
        "id": "zqxShNaSs6nD",
        "outputId": "0456ec19-f115-46b3-e4da-00f67851a448"
      },
      "execution_count": null,
      "outputs": [
        {
          "output_type": "stream",
          "name": "stdout",
          "text": [
            "[0.0587969  0.05320164 0.8748821  0.01311936]\n",
            "1.0\n"
          ]
        }
      ]
    },
    {
      "cell_type": "code",
      "source": [],
      "metadata": {
        "id": "VsGZn0dmtI3O"
      },
      "execution_count": null,
      "outputs": []
    }
  ]
}