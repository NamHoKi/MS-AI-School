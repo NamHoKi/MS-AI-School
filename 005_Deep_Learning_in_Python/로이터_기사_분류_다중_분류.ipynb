{
  "nbformat": 4,
  "nbformat_minor": 0,
  "metadata": {
    "colab": {
      "provenance": []
    },
    "kernelspec": {
      "name": "python3",
      "display_name": "Python 3"
    },
    "language_info": {
      "name": "python"
    }
  },
  "cells": [
    {
      "cell_type": "code",
      "execution_count": null,
      "metadata": {
        "id": "B0Nn0kJCYFF0"
      },
      "outputs": [],
      "source": [
        "import keras\n",
        "import numpy as np\n",
        "import matplotlib.pyplot as plt"
      ]
    },
    {
      "cell_type": "code",
      "source": [
        "# 로이터 기사 데이터 셋을 로딩합니다. \n",
        "\n",
        "from keras.datasets import reuters\n",
        "(train_data, train_labels),(test_data, test_labels) = reuters.load_data(num_words=10000)"
      ],
      "metadata": {
        "colab": {
          "base_uri": "https://localhost:8080/"
        },
        "id": "VT7t8eHKYXdl",
        "outputId": "5cb12265-2db5-40ae-fa23-0dd9c3faf917"
      },
      "execution_count": null,
      "outputs": [
        {
          "output_type": "stream",
          "name": "stdout",
          "text": [
            "Downloading data from https://storage.googleapis.com/tensorflow/tf-keras-datasets/reuters.npz\n",
            "2110848/2110848 [==============================] - 0s 0us/step\n"
          ]
        }
      ]
    },
    {
      "cell_type": "code",
      "source": [
        "train_data.shape"
      ],
      "metadata": {
        "colab": {
          "base_uri": "https://localhost:8080/"
        },
        "id": "9jkD3v1jZKsv",
        "outputId": "1b3a86cc-2f7c-4aa8-89a8-ea5eb1a97b9b"
      },
      "execution_count": null,
      "outputs": [
        {
          "output_type": "execute_result",
          "data": {
            "text/plain": [
              "(8982,)"
            ]
          },
          "metadata": {},
          "execution_count": 3
        }
      ]
    },
    {
      "cell_type": "code",
      "source": [
        "train_data[0]"
      ],
      "metadata": {
        "colab": {
          "base_uri": "https://localhost:8080/"
        },
        "id": "zpk6l5N6ZTnr",
        "outputId": "88fa75a8-dd0d-403e-e284-05110411d9c9"
      },
      "execution_count": null,
      "outputs": [
        {
          "output_type": "execute_result",
          "data": {
            "text/plain": [
              "[1,\n",
              " 2,\n",
              " 2,\n",
              " 8,\n",
              " 43,\n",
              " 10,\n",
              " 447,\n",
              " 5,\n",
              " 25,\n",
              " 207,\n",
              " 270,\n",
              " 5,\n",
              " 3095,\n",
              " 111,\n",
              " 16,\n",
              " 369,\n",
              " 186,\n",
              " 90,\n",
              " 67,\n",
              " 7,\n",
              " 89,\n",
              " 5,\n",
              " 19,\n",
              " 102,\n",
              " 6,\n",
              " 19,\n",
              " 124,\n",
              " 15,\n",
              " 90,\n",
              " 67,\n",
              " 84,\n",
              " 22,\n",
              " 482,\n",
              " 26,\n",
              " 7,\n",
              " 48,\n",
              " 4,\n",
              " 49,\n",
              " 8,\n",
              " 864,\n",
              " 39,\n",
              " 209,\n",
              " 154,\n",
              " 6,\n",
              " 151,\n",
              " 6,\n",
              " 83,\n",
              " 11,\n",
              " 15,\n",
              " 22,\n",
              " 155,\n",
              " 11,\n",
              " 15,\n",
              " 7,\n",
              " 48,\n",
              " 9,\n",
              " 4579,\n",
              " 1005,\n",
              " 504,\n",
              " 6,\n",
              " 258,\n",
              " 6,\n",
              " 272,\n",
              " 11,\n",
              " 15,\n",
              " 22,\n",
              " 134,\n",
              " 44,\n",
              " 11,\n",
              " 15,\n",
              " 16,\n",
              " 8,\n",
              " 197,\n",
              " 1245,\n",
              " 90,\n",
              " 67,\n",
              " 52,\n",
              " 29,\n",
              " 209,\n",
              " 30,\n",
              " 32,\n",
              " 132,\n",
              " 6,\n",
              " 109,\n",
              " 15,\n",
              " 17,\n",
              " 12]"
            ]
          },
          "metadata": {},
          "execution_count": 4
        }
      ]
    },
    {
      "cell_type": "code",
      "source": [
        "word_index = reuters.get_word_index()\n",
        "reverse_word_index = dict([(value, key) for (key, value) in word_index.items()])\n",
        "\n",
        "decoded_newswire = ' '.join([reverse_word_index.get(i-3,'?') for i in train_data[0]])"
      ],
      "metadata": {
        "id": "xnNbQD_DZbzI"
      },
      "execution_count": null,
      "outputs": []
    },
    {
      "cell_type": "code",
      "source": [
        "decoded_newswire"
      ],
      "metadata": {
        "colab": {
          "base_uri": "https://localhost:8080/",
          "height": 72
        },
        "id": "CXhbsSOOaN6i",
        "outputId": "36e3970a-48c1-43a8-b959-a8f84e272f85"
      },
      "execution_count": null,
      "outputs": [
        {
          "output_type": "execute_result",
          "data": {
            "text/plain": [
              "'? ? ? said as a result of its december acquisition of space co it expects earnings per share in 1987 of 1 15 to 1 30 dlrs per share up from 70 cts in 1986 the company said pretax net should rise to nine to 10 mln dlrs from six mln dlrs in 1986 and rental operation revenues to 19 to 22 mln dlrs from 12 5 mln dlrs it said cash flow per share this year should be 2 50 to three dlrs reuter 3'"
            ],
            "application/vnd.google.colaboratory.intrinsic+json": {
              "type": "string"
            }
          },
          "metadata": {},
          "execution_count": 7
        }
      ]
    },
    {
      "cell_type": "code",
      "source": [
        "train_labels[0]"
      ],
      "metadata": {
        "colab": {
          "base_uri": "https://localhost:8080/"
        },
        "id": "olgDX7OyaVQJ",
        "outputId": "a797d42a-da81-4161-b643-c739750bbe1d"
      },
      "execution_count": null,
      "outputs": [
        {
          "output_type": "execute_result",
          "data": {
            "text/plain": [
              "3"
            ]
          },
          "metadata": {},
          "execution_count": 8
        }
      ]
    },
    {
      "cell_type": "code",
      "source": [
        "# 데이터의 준비\n",
        "def vectorize_sequences(sequences, dimension=10000):\n",
        "\n",
        "  results = np.zeros((len(sequences),dimension))\n",
        "\n",
        "  for i, sequence in enumerate(sequences):\n",
        "    results[i, sequence] = 1\n",
        "\n",
        "  return results\n",
        "\n",
        "# 데이터의 변환 \n",
        "x_train = vectorize_sequences(train_data)\n",
        "x_test = vectorize_sequences(test_data)"
      ],
      "metadata": {
        "id": "XQSFN2eBacxa"
      },
      "execution_count": null,
      "outputs": []
    },
    {
      "cell_type": "code",
      "source": [
        "train_labels"
      ],
      "metadata": {
        "colab": {
          "base_uri": "https://localhost:8080/"
        },
        "id": "k5GFDnLhbxct",
        "outputId": "d943961c-36f1-48aa-cada-f091f5cde8b6"
      },
      "execution_count": null,
      "outputs": [
        {
          "output_type": "execute_result",
          "data": {
            "text/plain": [
              "array([ 3,  4,  3, ..., 25,  3, 25])"
            ]
          },
          "metadata": {},
          "execution_count": 10
        }
      ]
    },
    {
      "cell_type": "code",
      "source": [
        "# 라벨 데이터의 엔코딩 \n",
        "def to_one_hot(labels, dimension=46):\n",
        "  results = np.zeros((len(labels),dimension))\n",
        "\n",
        "  for i, sequence in enumerate(labels):\n",
        "    results[i, sequence] = 1\n",
        "\n",
        "  return results\n",
        "\n",
        "one_hot_train_labels = to_one_hot(train_labels)\n",
        "one_hot_test_labels = to_one_hot(test_labels)"
      ],
      "metadata": {
        "id": "gUf3sLmRb9CW"
      },
      "execution_count": null,
      "outputs": []
    },
    {
      "cell_type": "code",
      "source": [
        "# cateogorical 데이터로 변환\n",
        "from keras.utils.np_utils import to_categorical\n",
        "\n",
        "one_hot_train_labels = to_categorical(train_labels)\n",
        "one_hot_test_labels = to_categorical(test_labels)"
      ],
      "metadata": {
        "id": "E3hGtA1BeZuI"
      },
      "execution_count": null,
      "outputs": []
    },
    {
      "cell_type": "code",
      "source": [
        "# 신경망을 구성합니다. \n",
        "\n",
        "from keras import models\n",
        "from keras import layers\n",
        "\n",
        "model = models.Sequential()\n",
        "model.add(layers.Dense(64, activation='relu', input_shape=(10000,)))\n",
        "model.add(layers.Dense(64, activation='relu'))\n",
        "model.add(layers.Dense(46, activation='softmax'))"
      ],
      "metadata": {
        "id": "kKS3IzrpffHu"
      },
      "execution_count": null,
      "outputs": []
    },
    {
      "cell_type": "code",
      "source": [
        " model.compile(optimizer='rmsprop',\n",
        "               loss='categorical_crossentropy',\n",
        "               metrics=['accuracy'])"
      ],
      "metadata": {
        "id": "MquwTtgngvrK"
      },
      "execution_count": null,
      "outputs": []
    },
    {
      "cell_type": "code",
      "source": [
        "# 훈련 데이터의 준비\n",
        "\n",
        "x_val = x_train[:1000]\n",
        "partial_x_train = x_train[1000:]\n",
        "y_val = one_hot_train_labels[:1000]\n",
        "partial_y_train = one_hot_train_labels[1000:]"
      ],
      "metadata": {
        "id": "6PUSPcPahK0z"
      },
      "execution_count": null,
      "outputs": []
    },
    {
      "cell_type": "code",
      "source": [
        "history = model.fit(partial_x_train, \n",
        "                    partial_y_train,\n",
        "                    epochs=20,\n",
        "                    batch_size=512,\n",
        "                    validation_data=(x_val, y_val))"
      ],
      "metadata": {
        "colab": {
          "base_uri": "https://localhost:8080/"
        },
        "id": "OJGk_LZeoy06",
        "outputId": "cc6eb677-6c15-4f93-ed0a-648e99fd1843"
      },
      "execution_count": null,
      "outputs": [
        {
          "output_type": "stream",
          "name": "stdout",
          "text": [
            "Epoch 1/20\n",
            "16/16 [==============================] - 2s 86ms/step - loss: 2.2028 - accuracy: 0.5054 - val_loss: 1.4460 - val_accuracy: 0.6650\n",
            "Epoch 2/20\n",
            "16/16 [==============================] - 1s 72ms/step - loss: 1.2333 - accuracy: 0.7127 - val_loss: 1.1731 - val_accuracy: 0.7280\n",
            "Epoch 3/20\n",
            "16/16 [==============================] - 1s 67ms/step - loss: 0.9136 - accuracy: 0.7909 - val_loss: 1.0537 - val_accuracy: 0.7660\n",
            "Epoch 4/20\n",
            "16/16 [==============================] - 1s 67ms/step - loss: 0.6916 - accuracy: 0.8365 - val_loss: 1.0031 - val_accuracy: 0.7690\n",
            "Epoch 5/20\n",
            "16/16 [==============================] - 1s 67ms/step - loss: 0.5465 - accuracy: 0.8653 - val_loss: 0.9429 - val_accuracy: 0.7980\n",
            "Epoch 6/20\n",
            "16/16 [==============================] - 1s 65ms/step - loss: 0.3944 - accuracy: 0.9077 - val_loss: 0.9345 - val_accuracy: 0.8060\n",
            "Epoch 7/20\n",
            "16/16 [==============================] - 1s 68ms/step - loss: 0.3111 - accuracy: 0.9255 - val_loss: 1.0364 - val_accuracy: 0.7960\n",
            "Epoch 8/20\n",
            "16/16 [==============================] - 1s 67ms/step - loss: 0.2493 - accuracy: 0.9407 - val_loss: 0.9979 - val_accuracy: 0.7950\n",
            "Epoch 9/20\n",
            "16/16 [==============================] - 1s 66ms/step - loss: 0.2094 - accuracy: 0.9476 - val_loss: 1.0097 - val_accuracy: 0.8040\n",
            "Epoch 10/20\n",
            "16/16 [==============================] - 1s 67ms/step - loss: 0.1855 - accuracy: 0.9514 - val_loss: 1.0906 - val_accuracy: 0.8010\n",
            "Epoch 11/20\n",
            "16/16 [==============================] - 1s 71ms/step - loss: 0.1637 - accuracy: 0.9520 - val_loss: 1.0313 - val_accuracy: 0.8110\n",
            "Epoch 12/20\n",
            "16/16 [==============================] - 1s 67ms/step - loss: 0.1412 - accuracy: 0.9569 - val_loss: 1.1409 - val_accuracy: 0.7950\n",
            "Epoch 13/20\n",
            "16/16 [==============================] - 1s 66ms/step - loss: 0.1382 - accuracy: 0.9562 - val_loss: 1.0586 - val_accuracy: 0.8130\n",
            "Epoch 14/20\n",
            "16/16 [==============================] - 1s 66ms/step - loss: 0.1315 - accuracy: 0.9595 - val_loss: 1.0949 - val_accuracy: 0.8020\n",
            "Epoch 15/20\n",
            "16/16 [==============================] - 1s 66ms/step - loss: 0.1265 - accuracy: 0.9563 - val_loss: 1.1354 - val_accuracy: 0.8020\n",
            "Epoch 16/20\n",
            "16/16 [==============================] - 1s 66ms/step - loss: 0.1240 - accuracy: 0.9558 - val_loss: 1.1181 - val_accuracy: 0.8080\n",
            "Epoch 17/20\n",
            "16/16 [==============================] - 1s 67ms/step - loss: 0.1149 - accuracy: 0.9570 - val_loss: 1.1610 - val_accuracy: 0.7960\n",
            "Epoch 18/20\n",
            "16/16 [==============================] - 1s 67ms/step - loss: 0.1083 - accuracy: 0.9570 - val_loss: 1.1944 - val_accuracy: 0.7950\n",
            "Epoch 19/20\n",
            "16/16 [==============================] - 1s 66ms/step - loss: 0.1089 - accuracy: 0.9575 - val_loss: 1.2566 - val_accuracy: 0.7920\n",
            "Epoch 20/20\n",
            "16/16 [==============================] - 1s 66ms/step - loss: 0.1016 - accuracy: 0.9567 - val_loss: 1.1748 - val_accuracy: 0.7940\n"
          ]
        }
      ]
    },
    {
      "cell_type": "code",
      "source": [
        "# 학습 결과를 가져온다. \n",
        "loss = history.history['loss']\n",
        "val_loss = history.history['val_loss']\n",
        "acc = history.history['accuracy']\n",
        "val_acc = history.history['val_accuracy']\n",
        "\n",
        "epochs = range(1, len(loss) + 1)"
      ],
      "metadata": {
        "id": "MeQANE0gpc90"
      },
      "execution_count": null,
      "outputs": []
    },
    {
      "cell_type": "code",
      "source": [
        "# 결과를 시각화 한다. \n",
        "plt.plot(epochs, loss, 'bo', label='Training Loss')\n",
        "plt.plot(epochs, val_loss, 'b-', label='Validation Loss')\n",
        "plt.title('Training and validation loss')\n",
        "plt.xlabel('Epochs')\n",
        "plt.ylabel('Loss')\n",
        "plt.legend()"
      ],
      "metadata": {
        "colab": {
          "base_uri": "https://localhost:8080/",
          "height": 313
        },
        "id": "WU7GGDlArJBe",
        "outputId": "90ca7f1d-6c94-426b-9a68-6f9d9fa871d6"
      },
      "execution_count": null,
      "outputs": [
        {
          "output_type": "execute_result",
          "data": {
            "text/plain": [
              "<matplotlib.legend.Legend at 0x7f6471152310>"
            ]
          },
          "metadata": {},
          "execution_count": 33
        },
        {
          "output_type": "display_data",
          "data": {
            "text/plain": [
              "<Figure size 432x288 with 1 Axes>"
            ],
            "image/png": "[encoded data removed]"
          },
          "metadata": {
            "needs_background": "light"
          }
        }
      ]
    },
    {
      "cell_type": "code",
      "source": [
        "# 결과를 시각화 한다. \n",
        "plt.plot(epochs, acc, 'bo', label='Training Accuracy')\n",
        "plt.plot(epochs, val_acc, 'b-', label='Validation Accuracy')\n",
        "plt.title('Training and validation Accuracy')\n",
        "plt.xlabel('Epochs')\n",
        "plt.ylabel('Accuracy')\n",
        "plt.legend()"
      ],
      "metadata": {
        "colab": {
          "base_uri": "https://localhost:8080/",
          "height": 313
        },
        "id": "VBPatJXeriE3",
        "outputId": "fecfacca-3f81-4335-bf13-ba0695b292a2"
      },
      "execution_count": null,
      "outputs": [
        {
          "output_type": "execute_result",
          "data": {
            "text/plain": [
              "<matplotlib.legend.Legend at 0x7f647079da90>"
            ]
          },
          "metadata": {},
          "execution_count": 34
        },
        {
          "output_type": "display_data",
          "data": {
            "text/plain": [
              "<Figure size 432x288 with 1 Axes>"
            ],
            "image/png": "[encoded data removed]"
          },
          "metadata": {
            "needs_background": "light"
          }
        }
      ]
    },
    {
      "cell_type": "code",
      "source": [],
      "metadata": {
        "id": "WMOLPZaishzs"
      },
      "execution_count": null,
      "outputs": []
    }
  ]
}