{
  "nbformat": 4,
  "nbformat_minor": 0,
  "metadata": {
    "colab": {
      "provenance": []
    },
    "kernelspec": {
      "name": "python3",
      "display_name": "Python 3"
    },
    "language_info": {
      "name": "python"
    },
    "accelerator": "GPU",
    "gpuClass": "standard"
  },
  "cells": [
    {
      "cell_type": "code",
      "execution_count": null,
      "metadata": {
        "id": "0I2EkjQyyrEn"
      },
      "outputs": [],
      "source": [
        "import keras\n",
        "import numpy as np\n",
        "import matplotlib.pyplot as plt"
      ]
    },
    {
      "cell_type": "code",
      "source": [
        "# 보스턴 주택 가격 데이터셋\n",
        "\n",
        "from keras.datasets import boston_housing\n",
        "(train_data,train_labels),(test_data,test_labels) = boston_housing.load_data()"
      ],
      "metadata": {
        "colab": {
          "base_uri": "https://localhost:8080/"
        },
        "id": "7a9QFcmLy6dW",
        "outputId": "b5632cbe-4c6e-49b9-fc36-58fd48773e85"
      },
      "execution_count": null,
      "outputs": [
        {
          "output_type": "stream",
          "name": "stdout",
          "text": [
            "Downloading data from https://storage.googleapis.com/tensorflow/tf-keras-datasets/boston_housing.npz\n",
            "57026/57026 [==============================] - 0s 0us/step\n"
          ]
        }
      ]
    },
    {
      "cell_type": "code",
      "source": [
        "train_data.shape"
      ],
      "metadata": {
        "colab": {
          "base_uri": "https://localhost:8080/"
        },
        "id": "FjJIdjnvzaOn",
        "outputId": "eb5bb22e-263d-450e-ec06-ee064fdb0329"
      },
      "execution_count": null,
      "outputs": [
        {
          "output_type": "execute_result",
          "data": {
            "text/plain": [
              "(404, 13)"
            ]
          },
          "metadata": {},
          "execution_count": 3
        }
      ]
    },
    {
      "cell_type": "code",
      "source": [
        "test_data.shape"
      ],
      "metadata": {
        "colab": {
          "base_uri": "https://localhost:8080/"
        },
        "id": "CM_UbUJfzhKO",
        "outputId": "b2121a6f-1d4d-47af-a202-e01e2e756621"
      },
      "execution_count": null,
      "outputs": [
        {
          "output_type": "execute_result",
          "data": {
            "text/plain": [
              "(102, 13)"
            ]
          },
          "metadata": {},
          "execution_count": 4
        }
      ]
    },
    {
      "cell_type": "code",
      "source": [
        "mean = train_data.mean(axis=0)"
      ],
      "metadata": {
        "id": "UHF0yzOxzmL5"
      },
      "execution_count": null,
      "outputs": []
    },
    {
      "cell_type": "code",
      "source": [
        "train_data -= mean\n",
        "#train_data = train_data - mean 와 같은 표현"
      ],
      "metadata": {
        "id": "EexXd73Vz9wy"
      },
      "execution_count": null,
      "outputs": []
    },
    {
      "cell_type": "code",
      "source": [
        "# 표준 편차를 구한다. \n",
        "std = train_data.std(axis=0)"
      ],
      "metadata": {
        "id": "fF9VHuey0Bum"
      },
      "execution_count": null,
      "outputs": []
    },
    {
      "cell_type": "code",
      "source": [
        "train_data /= std\n",
        "#train_data = train_data / std"
      ],
      "metadata": {
        "id": "sA3JTkvI2R1l"
      },
      "execution_count": null,
      "outputs": []
    },
    {
      "cell_type": "code",
      "source": [
        "train_data"
      ],
      "metadata": {
        "colab": {
          "base_uri": "https://localhost:8080/"
        },
        "id": "Q0WQbIFw3I7K",
        "outputId": "a34b78d6-0556-4d17-86ef-cda31a8f6b7b"
      },
      "execution_count": null,
      "outputs": [
        {
          "output_type": "execute_result",
          "data": {
            "text/plain": [
              "array([[-0.27224633, -0.48361547, -0.43576161, ...,  1.14850044,\n",
              "         0.44807713,  0.8252202 ],\n",
              "       [-0.40342651,  2.99178419, -1.33391162, ..., -1.71818909,\n",
              "         0.43190599, -1.32920239],\n",
              "       [ 0.1249402 , -0.48361547,  1.0283258 , ...,  0.78447637,\n",
              "         0.22061726, -1.30850006],\n",
              "       ...,\n",
              "       [-0.40202987,  0.99079651, -0.7415148 , ..., -0.71712291,\n",
              "         0.07943894, -0.67776904],\n",
              "       [-0.17292018, -0.48361547,  1.24588095, ..., -1.71818909,\n",
              "        -0.98764362,  0.42083466],\n",
              "       [-0.40422614,  2.04394792, -1.20161456, ..., -1.30866202,\n",
              "         0.23317118, -1.15392266]])"
            ]
          },
          "metadata": {},
          "execution_count": 9
        }
      ]
    },
    {
      "cell_type": "code",
      "source": [
        "mean = test_data.mean(axis=0)\n",
        "test_data -= mean\n",
        "std = test_data.std(axis=0)\n",
        "test_data /= std"
      ],
      "metadata": {
        "id": "moVz1siV3Kac"
      },
      "execution_count": null,
      "outputs": []
    },
    {
      "cell_type": "code",
      "source": [
        "test_data"
      ],
      "metadata": {
        "colab": {
          "base_uri": "https://localhost:8080/"
        },
        "id": "1eZjoUHb363m",
        "outputId": "04d43b45-7aa0-401b-effe-54c6649447fa"
      },
      "execution_count": null,
      "outputs": [
        {
          "output_type": "execute_result",
          "data": {
            "text/plain": [
              "array([[ 2.8040301 , -0.50784934,  0.96960877, ...,  0.90513041,\n",
              "        -4.27829517,  2.51324773],\n",
              "       [-0.55530596, -0.50784934, -0.17801704, ..., -0.28485844,\n",
              "         0.3909446 ,  0.58604286],\n",
              "       [-0.56808398, -0.50784934, -0.86176938, ...,  0.90513041,\n",
              "         0.41570668, -0.38506427],\n",
              "       ...,\n",
              "       [-0.23539182, -0.50784934,  1.17955762, ..., -1.82192738,\n",
              "         0.32313459, -1.55879807],\n",
              "       [-0.5113909 , -0.50784934, -0.71849348, ..., -0.48318992,\n",
              "         0.34967446, -0.38956708],\n",
              "       [-0.03148414, -0.50784934,  1.17955762, ..., -1.82192738,\n",
              "        -1.57465677, -0.3745577 ]])"
            ]
          },
          "metadata": {},
          "execution_count": 11
        }
      ]
    },
    {
      "cell_type": "code",
      "source": [
        "# 신경망을 만든다. \n",
        "from keras import models\n",
        "from keras import layers\n",
        "\n",
        "def build_model():\n",
        "  model = models.Sequential()\n",
        "  model.add(layers.Dense(64, activation='relu',input_shape=(train_data.shape[1],)))\n",
        "  model.add(layers.Dense(64, activation='relu'))\n",
        "  model.add(layers.Dense(1))\n",
        "\n",
        "  model.compile(optimizer='rmsprop', \n",
        "                loss='mse',\n",
        "                metrics=['mae'])\n",
        "  return model"
      ],
      "metadata": {
        "id": "GdGyETiT39kH"
      },
      "execution_count": null,
      "outputs": []
    },
    {
      "cell_type": "code",
      "source": [
        "# K-folder 검증\n",
        "k = 4\n",
        "\n",
        "num_val_samples = len(train_data) // k #폴더의 사이즈\n",
        "all_scores = []\n",
        "\n",
        "for i in range(k):\n",
        "  print('처리중인 폴드 #',i)\n",
        "\n",
        "  # 검증 데이터를 준비: k번째 분할\n",
        "  val_data = train_data[i * num_val_samples : (i+1) * num_val_samples]\n",
        "  val_labels = train_labels[i * num_val_samples : (i+1) * num_val_samples]\n",
        "  \n",
        "  # 훈련 데이터의 준비:\n",
        "  partial_train_data = np.concatenate(\n",
        "    [train_data[: i * num_val_samples],\n",
        "    train_data[(i+1)*num_val_samples:]], axis=0)\n",
        "  \n",
        "  partial_train_labels = np.concatenate(\n",
        "    [train_labels[: i * num_val_samples],\n",
        "    train_labels[(i+1)*num_val_samples:]], axis=0)\n",
        "\n",
        "  model = build_model()\n",
        "  model.fit(partial_train_data,\n",
        "            partial_train_labels,\n",
        "            epochs=20,\n",
        "            batch_size=1,\n",
        "            verbose=0)\n",
        "  \n",
        "  val_mse, val_mae = model.evaluate(val_data, val_labels,verbose=0)\n",
        "  all_scores.append(val_mae)\n"
      ],
      "metadata": {
        "colab": {
          "base_uri": "https://localhost:8080/"
        },
        "id": "ZMt1s-jf6nrI",
        "outputId": "15bc9a63-9216-4598-f118-eb974ec25203"
      },
      "execution_count": null,
      "outputs": [
        {
          "output_type": "stream",
          "name": "stdout",
          "text": [
            "처리중인 폴드 # 0\n",
            "처리중인 폴드 # 1\n",
            "처리중인 폴드 # 2\n",
            "처리중인 폴드 # 3\n"
          ]
        }
      ]
    },
    {
      "cell_type": "code",
      "source": [
        "all_scores"
      ],
      "metadata": {
        "colab": {
          "base_uri": "https://localhost:8080/"
        },
        "id": "Bc0_RmLN6oZN",
        "outputId": "c6fae254-4649-4540-b167-a70ac33c3bf3"
      },
      "execution_count": null,
      "outputs": [
        {
          "output_type": "execute_result",
          "data": {
            "text/plain": [
              "[2.0095648765563965, 2.409729242324829, 2.6745810508728027, 2.7224018573760986]"
            ]
          },
          "metadata": {},
          "execution_count": 31
        }
      ]
    },
    {
      "cell_type": "code",
      "source": [
        "np.mean(all_scores)"
      ],
      "metadata": {
        "colab": {
          "base_uri": "https://localhost:8080/"
        },
        "id": "IBlJRaVAHSvG",
        "outputId": "787f40e9-2832-42fd-8384-6d8ecd4001b1"
      },
      "execution_count": null,
      "outputs": [
        {
          "output_type": "execute_result",
          "data": {
            "text/plain": [
              "2.4540692567825317"
            ]
          },
          "metadata": {},
          "execution_count": 33
        }
      ]
    },
    {
      "cell_type": "code",
      "source": [
        "# K-folder 검증\n",
        "k = 4\n",
        "num_epochs = 500\n",
        "\n",
        "num_val_samples = len(train_data) // k #폴더의 사이즈\n",
        "all_scores = []\n",
        "\n",
        "for i in range(k):\n",
        "  print('처리중인 폴드 #',i)\n",
        "\n",
        "  # 검증 데이터를 준비: k번째 분할\n",
        "  val_data = train_data[i * num_val_samples : (i+1) * num_val_samples]\n",
        "  val_labels = train_labels[i * num_val_samples : (i+1) * num_val_samples]\n",
        "  \n",
        "  # 훈련 데이터의 준비:\n",
        "  partial_train_data = np.concatenate(\n",
        "    [train_data[: i * num_val_samples],\n",
        "    train_data[(i+1)*num_val_samples:]], axis=0)\n",
        "  \n",
        "  partial_train_labels = np.concatenate(\n",
        "    [train_labels[: i * num_val_samples],\n",
        "    train_labels[(i+1)*num_val_samples:]], axis=0)\n",
        "\n",
        "  model = build_model()\n",
        "  history = model.fit(partial_train_data,\n",
        "              partial_train_labels,\n",
        "              epochs=num_epochs,\n",
        "              batch_size=1,\n",
        "              validation_data=(val_data, val_labels),\n",
        "              verbose=0)\n",
        "  mae_history = history.history['mae']\n",
        "  \n",
        "  all_scores.append(mae_history)\n"
      ],
      "metadata": {
        "colab": {
          "base_uri": "https://localhost:8080/"
        },
        "id": "3JgCPJ4-HZVs",
        "outputId": "6af69bc3-a28b-4c10-aff1-b393393e0712"
      },
      "execution_count": null,
      "outputs": [
        {
          "output_type": "stream",
          "name": "stdout",
          "text": [
            "처리중인 폴드 # 0\n",
            "처리중인 폴드 # 1\n",
            "처리중인 폴드 # 2\n",
            "처리중인 폴드 # 3\n"
          ]
        }
      ]
    },
    {
      "cell_type": "code",
      "source": [
        "average_mae_history = [np.mean([x[i] for x in all_scores]) for i in range(num_epochs)]"
      ],
      "metadata": {
        "id": "Qyw-wqfrJvdf"
      },
      "execution_count": null,
      "outputs": []
    },
    {
      "cell_type": "code",
      "source": [
        "plt.plot(range(1, len(average_mae_history)+1), average_mae_history)\n",
        "plt.xlabel('Epochs')\n",
        "plt.ylabel('Validation MAE')"
      ],
      "metadata": {
        "colab": {
          "base_uri": "https://localhost:8080/",
          "height": 297
        },
        "id": "q_eh6338OwWq",
        "outputId": "8638a1f7-8c3f-41a1-e214-6e57bbb20dff"
      },
      "execution_count": null,
      "outputs": [
        {
          "output_type": "execute_result",
          "data": {
            "text/plain": [
              "Text(0, 0.5, 'Validation MAE')"
            ]
          },
          "metadata": {},
          "execution_count": 42
        },
        {
          "output_type": "display_data",
          "data": {
            "text/plain": [
              "<Figure size 432x288 with 1 Axes>"
            ],
            "image/png": "[encoded data removed]"
          },
          "metadata": {
            "needs_background": "light"
          }
        }
      ]
    },
    {
      "cell_type": "code",
      "source": [],
      "metadata": {
        "id": "7adzmrayQnuN"
      },
      "execution_count": null,
      "outputs": []
    }
  ]
}